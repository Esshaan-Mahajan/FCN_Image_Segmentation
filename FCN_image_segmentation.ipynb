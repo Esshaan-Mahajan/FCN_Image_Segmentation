{
  "nbformat": 4,
  "nbformat_minor": 0,
  "metadata": {
    "colab": {
      "provenance": []
    },
    "kernelspec": {
      "name": "python3",
      "display_name": "Python 3"
    },
    "language_info": {
      "name": "python"
    },
    "accelerator": "GPU"
  },
  "cells": [
    {
      "cell_type": "markdown",
      "source": [
        "#Getting data"
      ],
      "metadata": {
        "id": "izbYlG_mS7He"
      }
    },
    {
      "cell_type": "code",
      "metadata": {
        "colab": {
          "base_uri": "https://localhost:8080/"
        },
        "id": "0xI9dWeSHnLS",
        "outputId": "4fc89839-7c8a-467f-efa3-954533bd224a"
      },
      "source": [
        "!wget http://pjreddie.com/media/files/VOCtrainval_11-May-2012.tar\n",
        "#http://host.robots.ox.ac.uk/pascal/VOC/voc2012/VOCtrainval_11-May-2012.tar\n"
      ],
      "execution_count": null,
      "outputs": [
        {
          "output_type": "stream",
          "name": "stdout",
          "text": [
            "--2022-01-04 10:48:05--  http://pjreddie.com/media/files/VOCtrainval_11-May-2012.tar\n",
            "Resolving pjreddie.com (pjreddie.com)... 128.208.4.108\n",
            "Connecting to pjreddie.com (pjreddie.com)|128.208.4.108|:80... connected.\n",
            "HTTP request sent, awaiting response... 301 Moved Permanently\n",
            "Location: https://pjreddie.com/media/files/VOCtrainval_11-May-2012.tar [following]\n",
            "--2022-01-04 10:48:05--  https://pjreddie.com/media/files/VOCtrainval_11-May-2012.tar\n",
            "Connecting to pjreddie.com (pjreddie.com)|128.208.4.108|:443... connected.\n",
            "HTTP request sent, awaiting response... 200 OK\n",
            "Length: 1999639040 (1.9G) [application/octet-stream]\n",
            "Saving to: ‘VOCtrainval_11-May-2012.tar’\n",
            "\n",
            "VOCtrainval_11-May- 100%[===================>]   1.86G  61.2MB/s    in 31s     \n",
            "\n",
            "2022-01-04 10:48:37 (61.2 MB/s) - ‘VOCtrainval_11-May-2012.tar’ saved [1999639040/1999639040]\n",
            "\n"
          ]
        }
      ]
    },
    {
      "cell_type": "code",
      "metadata": {
        "colab": {
          "base_uri": "https://localhost:8080/"
        },
        "id": "qCwf7aqCmp6v",
        "outputId": "a4a8fd37-bc29-4567-fae6-e3c4c8472526"
      },
      "source": [
        "import os\n",
        "print(os.listdir())\n"
      ],
      "execution_count": null,
      "outputs": [
        {
          "output_type": "stream",
          "name": "stdout",
          "text": [
            "['.config', 'VOCtrainval_11-May-2012.tar', 'VOCdevkit', 'sample_data']\n"
          ]
        }
      ]
    },
    {
      "cell_type": "code",
      "metadata": {
        "id": "SYD1goGQHnIl"
      },
      "source": [
        "!tar -xvf \"VOCtrainval_11-May-2012.tar\"\n"
      ],
      "execution_count": null,
      "outputs": []
    },
    {
      "cell_type": "code",
      "metadata": {
        "id": "Y0oJBzFb6sA6"
      },
      "source": [
        "import os\n",
        "print(os.listdir('VOCdevkit/VOC2012/'))\n"
      ],
      "execution_count": null,
      "outputs": []
    },
    {
      "cell_type": "code",
      "metadata": {
        "id": "NH6KulUiHnFc"
      },
      "source": [
        "Train_Path = \"./VOCdevkit/VOC2012/JPEGImages/\"\n",
        "Segmentation_Path='./VOCdevkit/VOC2012/SegmentationClass/'\n",
        "\n",
        "import cv2\n",
        "import matplotlib.pyplot as plt\n",
        "\n",
        "\n",
        "img = cv2.imread(Train_Path+\"2011_003121.jpg\")\n",
        "\n",
        "img = cv2.cvtColor(img,cv2.COLOR_BGR2RGB)\n",
        "\n",
        "\n",
        "plt.imshow(img)\n",
        "#plt.axis(\"off\")\n",
        "plt.show()"
      ],
      "execution_count": null,
      "outputs": []
    },
    {
      "cell_type": "code",
      "metadata": {
        "colab": {
          "base_uri": "https://localhost:8080/",
          "height": 304
        },
        "id": "vtyOM3OaT5I6",
        "outputId": "0876b66f-b028-4495-e63a-bbd6b8d85c78"
      },
      "source": [
        "img1 = cv2.imread(Segmentation_Path+\"2011_003121.png\")\n",
        "\n",
        "img1 = cv2.cvtColor(img1,cv2.COLOR_BGR2RGB)\n",
        "print(type(img1[310,400]))\n",
        "print(img1[310,400][2])\n",
        "plt.imshow(img1)\n",
        "plt.axis(\"on\")\n",
        "plt.show()\n"
      ],
      "execution_count": null,
      "outputs": [
        {
          "output_type": "stream",
          "name": "stdout",
          "text": [
            "<class 'numpy.ndarray'>\n",
            "192\n"
          ]
        },
        {
          "output_type": "display_data",
          "data": {
            "image/png": "[encoded data removed]",
            "text/plain": [
              "<Figure size 432x288 with 1 Axes>"
            ]
          },
          "metadata": {
            "needs_background": "light"
          }
        }
      ]
    },
    {
      "cell_type": "code",
      "source": [
        "\n",
        "Annotations_Path='./VOCdevkit/VOC2012/Annotations/'\n",
        "#os.listdir(Annotations_Path)\n",
        "# import xml.etree.ElementTree as ET\n",
        "# tree = ET.parse(Annotations_Path+'2009_004983.xml')  #dataset.xml is the name of my file\n",
        "# root = tree.getroot()\n"
      ],
      "metadata": {
        "id": "3mxAX5v4E-0z"
      },
      "execution_count": null,
      "outputs": []
    },
    {
      "cell_type": "code",
      "metadata": {
        "id": "xeSGLVs1UFLv"
      },
      "source": [
        "import numpy as np\n",
        "import matplotlib.pyplot as plt\n",
        "import keras\n",
        "from keras.layers import *\n",
        "from keras.models import *\n",
        "from keras.preprocessing import image"
      ],
      "execution_count": null,
      "outputs": []
    },
    {
      "cell_type": "markdown",
      "source": [
        "#Preprocessing data"
      ],
      "metadata": {
        "id": "B0aATpjgTFGz"
      }
    },
    {
      "cell_type": "code",
      "metadata": {
        "id": "TreimboNUFIb"
      },
      "source": [
        "from keras.applications.vgg16 import preprocess_input\n",
        "def preprocess_img(img):\n",
        "    img = image.load_img(img,target_size=(224,224))\n",
        "    img = image.img_to_array(img)\n",
        "    img = img.astype('float')\n",
        "    #img /= 255.0\n",
        "    img=preprocess_input(img)\n",
        "\n",
        "    return img"
      ],
      "execution_count": null,
      "outputs": []
    },
    {
      "cell_type": "code",
      "source": [],
      "metadata": {
        "id": "xTQYBZb70bnu"
      },
      "execution_count": null,
      "outputs": []
    },
    {
      "cell_type": "code",
      "source": [
        "def convert_annotation_to_label(annotation, y_size, x_size, num_classes=3):\n",
        "\n",
        "    # annotation_to_label = np.zeros((y_size, x_size))\n",
        "\n",
        "    # for i in range(y_size):\n",
        "    #     for j in range(x_size):\n",
        "    #         pix_value = annotation[i, j]\n",
        "    #         if pix_value==np.array[0 ,0, 0]:\n",
        "    #           annotation_to_label[i,j] = 0  # background\n",
        "    #         elif pix_value ==np.array[224,224,192]:\n",
        "    #           annotation_to_label[i,j] = 1   # outline\n",
        "    #         else:\n",
        "    #           annotation_to_label[i,j] = 2   # foreground\n",
        "    annotation_to_label = np.zeros((y_size, x_size,num_classes))\n",
        "    for i in range(y_size):\n",
        "        for j in range(x_size):\n",
        "            pix_value = annotation[i, j]\n",
        "            if pix_value[0]==0 and pix_value[1]==0 and pix_value[2]==0:\n",
        "              annotation_to_label[i,j,0] = 1  # background\n",
        "            elif pix_value[0]==224 and pix_value[1]==224 and pix_value[2]==192:\n",
        "              annotation_to_label[i,j,1] = 1   # outline\n",
        "            else:\n",
        "              annotation_to_label[i,j,2] = 1   # foreground\n",
        "\n",
        "\n",
        "    return annotation_to_label\n",
        "\n",
        "def read_annotation(dataset_folder, filename, y_size, x_size):\n",
        "\n",
        "    fpath = os.path.join(dataset_folder, filename)\n",
        "    annotation = image.load_img(fpath)\n",
        "\n",
        "    annotation = annotation.resize((x_size, y_size))\n",
        "\n",
        "#    annotation = annotation.convert('L')\n",
        "\n",
        "    annotation = np.array(annotation)\n",
        "    annotation[annotation == 255.] = 0.\n",
        "\n",
        "    return annotation"
      ],
      "metadata": {
        "id": "Vki-GBfJVD9F"
      },
      "execution_count": null,
      "outputs": []
    },
    {
      "cell_type": "code",
      "metadata": {
        "id": "_ajRZCcTUFGY"
      },
      "source": [],
      "execution_count": null,
      "outputs": []
    },
    {
      "cell_type": "code",
      "source": [
        "def get_full_dataset():\n",
        "\n",
        "\n",
        "    dataset_images = []\n",
        "    dataset_labels = []\n",
        "    for img_path in os.listdir(Train_Path)[:int(len(os.listdir(Train_Path))*0.1)]:\n",
        "        print(img_path)\n",
        "        y_size = 224\n",
        "        x_size = 224\n",
        "\n",
        "\n",
        "\n",
        "\n",
        "\n",
        "        if img_path[:-3]+'png' in os.listdir(Segmentation_Path):\n",
        "          annotation = read_annotation(Segmentation_Path, img_path[:-3]+'png', y_size, x_size)\n",
        "          annotation_one_hot = convert_annotation_to_label(annotation, y_size, x_size, num_classes = 3)\n",
        "\n",
        "\n",
        "\n",
        "          image = preprocess_img(Train_Path + img_path)\n",
        "\n",
        "          dataset_images.append(image)\n",
        "          dataset_labels.append(annotation_one_hot)\n",
        "\n",
        "\n",
        "    dataset_images = np.asarray(dataset_images)\n",
        "    dataset_labels = np.asarray(dataset_labels)\n",
        "\n",
        "    return dataset_images, dataset_labels\n"
      ],
      "metadata": {
        "id": "aid3Z6Bs_La9"
      },
      "execution_count": null,
      "outputs": []
    },
    {
      "cell_type": "code",
      "source": [
        "data = get_full_dataset()\n",
        "\n"
      ],
      "metadata": {
        "id": "0GQVUd3ThzxV"
      },
      "execution_count": null,
      "outputs": []
    },
    {
      "cell_type": "code",
      "source": [
        "print(type(data[0]))"
      ],
      "metadata": {
        "colab": {
          "base_uri": "https://localhost:8080/"
        },
        "id": "cB405frB3ZT4",
        "outputId": "2d37172c-aa76-4581-f750-e58c4609d295"
      },
      "execution_count": null,
      "outputs": [
        {
          "output_type": "stream",
          "name": "stdout",
          "text": [
            "<class 'numpy.ndarray'>\n"
          ]
        }
      ]
    },
    {
      "cell_type": "code",
      "source": [
        "print(data[0])\n",
        "print(data[1])"
      ],
      "metadata": {
        "id": "sE9ISLh22Rny"
      },
      "execution_count": null,
      "outputs": []
    },
    {
      "cell_type": "code",
      "source": [
        "x = '2010_002995.png' in os.listdir(Segmentation_Path)\n",
        "print(x)"
      ],
      "metadata": {
        "colab": {
          "base_uri": "https://localhost:8080/"
        },
        "id": "CCmXUl18RaWU",
        "outputId": "fd2f5607-5fdd-40ae-df4a-9cb983ceb882"
      },
      "execution_count": null,
      "outputs": [
        {
          "output_type": "stream",
          "name": "stdout",
          "text": [
            "False\n"
          ]
        }
      ]
    },
    {
      "cell_type": "code",
      "source": [
        "print(os.listdir(Segmentation_Path))"
      ],
      "metadata": {
        "colab": {
          "base_uri": "https://localhost:8080/"
        },
        "id": "LbqgDSSiQRzK",
        "outputId": "6a905020-f8de-47b6-b6a4-888c9fd12278"
      },
      "execution_count": null,
      "outputs": [
        {
          "output_type": "stream",
          "name": "stdout",
          "text": [
            "['2009_002732.png', '2007_000713.png', '2011_001624.png', '2010_004795.png', '2009_004790.png', '2009_002568.png', '2010_003680.png', '2008_000992.png', '2011_000512.png', '2008_002467.png', '2010_004960.png', '2009_002872.png', '2011_001793.png', '2011_001135.png', '2008_001283.png', '2010_005064.png', '2009_003361.png', '2008_003774.png', '2010_001422.png', '2007_006605.png', '2007_001733.png', '2010_002701.png', '2011_000594.png', '2009_004455.png', '2009_001607.png', '2011_000479.png', '2007_008543.png', '2011_001726.png', '2010_005206.png', '2011_000874.png', '2008_002588.png', '2008_008550.png', '2011_002509.png', '2007_004291.png', '2009_000318.png', '2009_000892.png', '2011_002075.png', '2008_001761.png', '2008_003886.png', '2007_000504.png', '2008_000239.png', '2007_009901.png', '2009_002285.png', '2007_003000.png', '2009_002662.png', '2010_005187.png', '2009_003904.png', '2009_003756.png', '2008_000290.png', '2008_004399.png', '2011_003030.png', '2010_004499.png', '2009_003810.png', '2010_001104.png', '2009_001536.png', '2009_002771.png', '2008_001896.png', '2008_005217.png', '2007_007165.png', '2010_005992.png', '2008_003060.png', '2007_005294.png', '2008_000213.png', '2009_003660.png', '2007_007481.png', '2009_001871.png', '2010_000810.png', '2007_007524.png', '2010_005860.png', '2007_009594.png', '2008_007596.png', '2009_001782.png', '2007_001901.png', '2009_004091.png', '2007_001717.png', '2009_000964.png', '2008_006130.png', '2007_009597.png', '2010_000272.png', '2007_003191.png', '2007_001321.png', '2009_004829.png', '2008_000578.png', '2010_004226.png', '2007_009346.png', '2008_001413.png', '2010_005432.png', '2009_004887.png', '2008_003141.png', '2008_001106.png', '2007_009221.png', '2008_000019.png', '2007_001430.png', '2007_000464.png', '2010_002938.png', '2009_001964.png', '2010_004577.png', '2007_002024.png', '2008_000860.png', '2007_009607.png', '2007_003110.png', '2009_000825.png', '2008_000731.png', '2009_004217.png', '2008_002521.png', '2009_000887.png', '2008_007090.png', '2010_003207.png', '2010_002017.png', '2008_000505.png', '2008_007375.png', '2009_003933.png', '2010_002018.png', '2010_001120.png', '2007_000452.png', '2007_002273.png', '2009_000444.png', '2011_001775.png', '2008_005321.png', '2010_002480.png', '2010_002570.png', '2009_001124.png', '2007_001724.png', '2008_004754.png', '2007_009655.png', '2008_001498.png', '2008_003168.png', '2011_001336.png', '2008_006108.png', '2008_000863.png', '2010_000238.png', '2011_002379.png', '2008_006986.png', '2007_006136.png', '2009_004882.png', '2011_000469.png', '2010_002499.png', '2007_003861.png', '2010_002973.png', '2008_003733.png', '2008_003270.png', '2009_000840.png', '2008_004995.png', '2008_002240.png', '2008_007428.png', '2011_001400.png', '2011_001530.png', '2008_004416.png', '2008_007548.png', '2009_000746.png', '2010_003017.png', '2007_002260.png', '2011_003184.png', '2010_001748.png', '2007_009550.png', '2007_002611.png', '2007_004281.png', '2008_003252.png', '2010_000371.png', '2011_003216.png', '2011_002515.png', '2009_003522.png', '2007_000648.png', '2010_001024.png', '2011_001653.png', '2009_000731.png', '2007_005314.png', '2008_004140.png', '2009_000771.png', '2011_000068.png', '2008_005874.png', '2009_001828.png', '2009_000704.png', '2008_003665.png', '2009_001565.png', '2007_006260.png', '2010_004757.png', '2007_002669.png', '2007_000480.png', '2010_005718.png', '2010_004704.png', '2010_004144.png', '2008_001580.png', '2007_005845.png', '2010_001850.png', '2008_005266.png', '2008_001078.png', '2008_007313.png', '2009_002387.png', '2007_003682.png', '2007_003778.png', '2007_004722.png', '2010_003954.png', '2011_001014.png', '2007_005600.png', '2007_001311.png', '2009_001693.png', '2009_002638.png', '2009_001253.png', '2009_001690.png', '2007_006866.png', '2011_000435.png', '2009_005160.png', '2010_002921.png', '2007_007585.png', '2011_000646.png', '2010_002546.png', '2011_000006.png', '2011_002114.png', '2007_007196.png', '2008_002680.png', '2011_000400.png', '2008_002239.png', '2007_000768.png', '2011_002754.png', '2009_005236.png', '2009_002239.png', '2010_005952.png', '2007_005878.png', '2009_002713.png', '2010_004288.png', '2010_001399.png', '2007_002412.png', '2008_002080.png', '2008_007031.png', '2010_001069.png', '2009_000487.png', '2009_002753.png', '2007_006232.png', '2008_005342.png', '2010_002228.png', '2007_003178.png', '2009_002845.png', '2008_008323.png', '2007_007355.png', '2011_002224.png', '2010_005174.png', '2009_001816.png', '2009_001095.png', '2010_002054.png', '2010_004941.png', '2008_000415.png', '2008_008362.png', '2011_000338.png', '2010_003495.png', '2007_005281.png', '2009_004327.png', '2008_007472.png', '2007_009464.png', '2009_004568.png', '2011_001341.png', '2008_005770.png', '2011_000234.png', '2010_001183.png', '2011_001411.png', '2010_002691.png', '2009_005087.png', '2010_003764.png', '2011_000396.png', '2008_002177.png', '2009_003961.png', '2011_001984.png', '2011_002223.png', '2007_002268.png', '2009_001160.png', '2011_000658.png', '2009_000931.png', '2009_005145.png', '2009_001804.png', '2011_001263.png', '2007_005460.png', '2008_001514.png', '2011_002064.png', '2009_000028.png', '2008_008711.png', '2011_001665.png', '2008_004659.png', '2009_001306.png', '2009_000774.png', '2007_008747.png', '2011_000713.png', '2011_001133.png', '2009_000073.png', '2009_004072.png', '2011_003182.png', '2007_007591.png', '2009_001163.png', '2010_002929.png', '2009_002888.png', '2009_003507.png', '2011_001071.png', '2007_005124.png', '2010_004900.png', '2007_002293.png', '2010_004559.png', '2010_000929.png', '2011_000122.png', '2007_001289.png', '2011_003205.png', '2009_004317.png', '2011_002464.png', '2007_001678.png', '2010_001256.png', '2010_003230.png', '2010_000426.png', '2008_002536.png', '2007_008932.png', '2008_004547.png', '2009_001332.png', '2007_005296.png', '2008_005953.png', '2011_000997.png', '2008_003769.png', '2010_000552.png', '2011_001794.png', '2007_007621.png', '2009_003865.png', '2010_003912.png', '2009_004730.png', '2010_004149.png', '2010_004951.png', '2009_004867.png', '2010_001154.png', '2009_005031.png', '2007_008043.png', '2007_009139.png', '2010_000502.png', '2011_001753.png', '2007_002488.png', '2010_005013.png', '2010_004314.png', '2009_002155.png', '2007_007168.png', '2010_003402.png', '2008_002175.png', '2008_001112.png', '2009_000544.png', '2009_003075.png', '2007_000645.png', '2007_009618.png', '2008_006908.png', '2010_001692.png', '2007_007250.png', '2010_002937.png', '2007_000733.png', '2007_000250.png', '2010_001124.png', '2007_002234.png', '2010_003274.png', '2007_000837.png', '2011_000813.png', '2008_001523.png', '2007_002462.png', '2008_002471.png', '2008_004841.png', '2009_001991.png', '2011_000359.png', '2007_004009.png', '2010_002659.png', '2009_004324.png', '2008_002504.png', '2008_002970.png', '2008_000361.png', '2009_004191.png', '2011_003025.png', '2010_005118.png', '2007_001526.png', '2007_006832.png', '2008_008324.png', '2009_005156.png', '2007_002212.png', '2009_001177.png', '2011_001632.png', '2010_003446.png', '2010_005922.png', '2008_005338.png', '2011_001764.png', '2008_004624.png', '2007_001609.png', '2009_002586.png', '2011_000747.png', '2011_003085.png', '2008_000316.png', '2010_005951.png', '2008_000567.png', '2008_000028.png', '2011_002879.png', '2009_000573.png', '2009_001085.png', '2010_001966.png', '2007_009084.png', '2010_004948.png', '2007_009413.png', '2011_001198.png', '2010_005762.png', '2009_002150.png', '2011_000893.png', '2009_003196.png', '2010_005719.png', '2008_000533.png', '2009_000503.png', '2010_000002.png', '2009_003039.png', '2011_001020.png', '2009_004661.png', '2009_000730.png', '2010_000114.png', '2007_003848.png', '2008_008301.png', '2011_002498.png', '2007_008339.png', '2011_003255.png', '2011_000542.png', '2007_008547.png', '2007_007341.png', '2007_006761.png', '2007_007815.png', '2007_006076.png', '2011_002134.png', '2009_001108.png', '2009_002975.png', '2010_001247.png', '2007_003715.png', '2009_001735.png', '2007_001420.png', '2008_000009.png', '2007_004143.png', '2009_001140.png', '2010_003276.png', '2010_001995.png', '2009_001391.png', '2010_005627.png', '2008_008682.png', '2007_000032.png', '2009_003273.png', '2008_005628.png', '2009_002448.png', '2009_001278.png', '2008_004983.png', '2007_003872.png', '2009_004248.png', '2010_000836.png', '2009_002820.png', '2010_004828.png', '2009_001888.png', '2009_000801.png', '2009_001937.png', '2010_001595.png', '2008_002885.png', '2010_000132.png', '2010_000075.png', '2009_005128.png', '2008_006558.png', '2011_001765.png', '2008_004339.png', '2008_001592.png', '2010_003269.png', '2009_005219.png', '2008_005097.png', '2007_002284.png', '2009_003461.png', '2008_002066.png', '2011_003057.png', '2010_004946.png', '2010_000469.png', '2007_007480.png', '2009_002990.png', '2010_001273.png', '2008_004612.png', '2009_001203.png', '2007_003051.png', '2007_008218.png', '2008_002894.png', '2008_002681.png', '2007_005797.png', '2007_004769.png', '2008_002241.png', '2010_002107.png', '2007_003349.png', '2007_004841.png', '2008_007814.png', '2010_001327.png', '2008_004441.png', '2010_002623.png', '2010_005835.png', '2010_005198.png', '2009_005016.png', '2010_006054.png', '2008_003105.png', '2008_000861.png', '2008_005399.png', '2010_004450.png', '2010_003123.png', '2010_000256.png', '2007_004112.png', '2007_000363.png', '2007_008596.png', '2008_002032.png', '2009_002472.png', '2009_002887.png', '2009_002019.png', '2011_001722.png', '2010_005119.png', '2010_004042.png', '2007_006281.png', '2007_002142.png', '2007_000187.png', '2011_000197.png', '2010_003947.png', '2008_004607.png', '2007_005989.png', '2009_003269.png', '2009_001544.png', '2009_004901.png', '2010_002625.png', '2010_002750.png', '2007_002852.png', '2008_000584.png', '2009_003636.png', '2008_005747.png', '2009_002281.png', '2008_000103.png', '2008_003101.png', '2009_001718.png', '2007_009323.png', '2011_001412.png', '2007_003195.png', '2008_003373.png', '2011_003197.png', '2008_003777.png', '2007_003525.png', '2009_003317.png', '2009_000684.png', '2011_000108.png', '2009_005231.png', '2011_001159.png', '2008_006434.png', '2011_001880.png', '2010_003170.png', '2010_001557.png', '2007_008110.png', '2011_000585.png', '2009_004888.png', '2009_004994.png', '2007_002403.png', '2010_005106.png', '2008_003381.png', '2009_000619.png', '2009_003757.png', '2010_000063.png', '2011_000412.png', '2008_000469.png', '2009_003217.png', '2007_004988.png', '2011_000003.png', '2008_003976.png', '2007_008802.png', '2010_001403.png', '2008_000853.png', '2010_002457.png', '2009_002917.png', '2007_003788.png', '2008_004097.png', '2010_005500.png', '2007_006899.png', '2007_006581.png', '2010_004994.png', '2007_009015.png', '2009_004374.png', '2007_000738.png', '2008_002936.png', '2009_004213.png', '2010_003187.png', '2009_005177.png', '2009_003564.png', '2008_001208.png', '2011_000589.png', '2011_000834.png', '2008_001379.png', '2010_001514.png', '2008_002218.png', '2007_004830.png', '2009_001117.png', '2009_003922.png', '2008_006159.png', '2010_001245.png', '2011_002812.png', '2011_000116.png', '2008_001997.png', '2010_003153.png', '2009_004186.png', '2010_002390.png', '2007_002099.png', '2009_004732.png', '2011_001695.png', '2009_004656.png', '2007_002105.png', '2008_004014.png', '2010_005755.png', '2009_005269.png', '2007_007154.png', '2008_006873.png', '2007_005227.png', '2009_004799.png', '2010_004222.png', '2010_000404.png', '2010_003915.png', '2009_004581.png', '2009_000405.png', '2011_000482.png', '2010_000392.png', '2008_001076.png', '2008_000289.png', '2009_002936.png', '2008_005926.png', '2010_003717.png', '2010_001699.png', '2010_001279.png', '2008_003208.png', '2007_006303.png', '2009_002382.png', '2010_005927.png', '2011_002873.png', '2010_004363.png', '2007_004712.png', '2009_004507.png', '2009_002320.png', '2010_005727.png', '2009_003012.png', '2010_000907.png', '2011_002303.png', '2011_001110.png', '2008_003546.png', '2009_000037.png', '2008_006843.png', '2010_000084.png', '2007_005813.png', '2008_000943.png', '2008_008268.png', '2010_005098.png', '2008_005845.png', '2008_008511.png', '2009_001268.png', '2010_001374.png', '2007_006364.png', '2011_000054.png', '2011_001479.png', '2010_000941.png', '2010_001522.png', '2008_006327.png', '2010_005836.png', '2007_001764.png', '2008_000870.png', '2009_002571.png', '2009_001744.png', '2007_006865.png', '2008_003576.png', '2007_000392.png', '2008_003876.png', '2011_002503.png', '2009_005089.png', '2009_003707.png', '2007_006483.png', '2010_001577.png', '2011_000291.png', '2009_003003.png', '2008_004946.png', '2007_002216.png', '2009_000987.png', '2008_006748.png', '2007_009392.png', '2008_000540.png', '2008_005698.png', '2008_006490.png', '2009_003200.png', '2008_002043.png', '2010_001820.png', '2011_000066.png', '2007_007470.png', '2009_002052.png', '2008_007219.png', '2008_000259.png', '2009_002618.png', '2007_002055.png', '2009_003369.png', '2010_001732.png', '2010_000918.png', '2008_002641.png', '2008_005915.png', '2010_002396.png', '2010_005820.png', '2007_001763.png', '2008_000661.png', '2008_006526.png', '2011_000045.png', '2007_007773.png', '2010_000466.png', '2010_005919.png', '2009_003799.png', '2010_005663.png', '2008_002379.png', '2007_005803.png', '2010_004669.png', '2009_001644.png', '2008_001030.png', '2009_004298.png', '2009_002727.png', '2007_007493.png', '2008_006213.png', '2009_001403.png', '2010_004071.png', '2007_009817.png', '2009_000387.png', '2007_007109.png', '2007_006698.png', '2007_009521.png', '2008_005214.png', '2010_004479.png', '2011_000598.png', '2008_000233.png', '2007_009889.png', '2007_001774.png', '2009_001255.png', '2009_003311.png', '2008_003200.png', '2007_007432.png', '2010_004348.png', '2009_003613.png', '2007_000033.png', '2010_003950.png', '2011_002730.png', '2007_001457.png', '2011_002717.png', '2010_005245.png', '2010_002856.png', '2010_000530.png', '2010_004620.png', '2009_004212.png', '2011_003066.png', '2010_002047.png', '2007_008140.png', '2009_003555.png', '2010_005830.png', '2009_004221.png', '2008_002255.png', '2010_003168.png', '2011_002121.png', '2008_001876.png', '2007_007890.png', '2008_004367.png', '2007_003330.png', '2009_000709.png', '2010_002336.png', '2010_004322.png', '2008_001882.png', '2011_000278.png', '2009_002862.png', '2008_000234.png', '2009_003825.png', '2008_008629.png', '2010_001646.png', '2010_002531.png', '2007_003499.png', '2009_002295.png', '2009_003696.png', '2009_002060.png', '2009_003517.png', '2011_000453.png', '2010_002720.png', '2010_004551.png', '2008_006528.png', '2009_001359.png', '2008_008103.png', '2007_006641.png', '2011_002685.png', '2008_001249.png', '2009_004540.png', '2009_001731.png', '2011_001972.png', '2010_001010.png', '2011_000105.png', '2011_002322.png', '2008_003874.png', '2011_001434.png', '2010_003974.png', '2007_000799.png', '2008_008469.png', '2007_004065.png', '2007_000836.png', '2007_002370.png', '2008_005254.png', '2009_005194.png', '2008_000760.png', '2011_002834.png', '2008_006523.png', '2007_000491.png', '2011_000573.png', '2010_004697.png', '2009_005158.png', '2008_006553.png', '2009_002262.png', '2009_001333.png', '2009_001961.png', '2009_002010.png', '2008_001632.png', '2008_001433.png', '2007_003611.png', '2008_001691.png', '2007_000559.png', '2009_003498.png', '2008_002464.png', '2009_004738.png', '2008_001028.png', '2010_003127.png', '2007_000584.png', '2007_008374.png', '2007_009788.png', '2010_002106.png', '2007_009527.png', '2009_001664.png', '2008_005676.png', '2007_008575.png', '2010_000815.png', '2011_000780.png', '2007_005915.png', '2009_001070.png', '2010_000847.png', '2011_002298.png', '2009_000400.png', '2011_001571.png', '2007_005149.png', '2011_002295.png', '2010_004074.png', '2009_004021.png', '2009_002849.png', '2010_004519.png', '2009_003921.png', '2008_003577.png', '2007_009779.png', '2011_001015.png', '2008_003429.png', '2007_009950.png', '2008_003499.png', '2010_002693.png', '2008_004396.png', '2008_003415.png', '2009_003569.png', '2010_001448.png', '2009_005247.png', '2007_003841.png', '2007_007387.png', '2008_004838.png', '2011_003078.png', '2009_003034.png', '2010_001079.png', '2011_002851.png', '2007_003714.png', '2010_001149.png', '2008_008521.png', '2007_004998.png', '2009_000087.png', '2007_009832.png', '2010_003342.png', '2011_002111.png', '2008_003779.png', '2010_003157.png', '2010_003532.png', '2011_002662.png', '2008_000778.png', '2008_004172.png', '2010_004805.png', '2008_002492.png', '2009_004328.png', '2010_005876.png', '2010_004808.png', '2010_005582.png', '2007_000999.png', '2011_002644.png', '2008_001531.png', '2011_001607.png', '2010_005775.png', '2008_000666.png', '2008_002778.png', '2009_005056.png', '2007_004328.png', '2007_004405.png', '2009_003340.png', '2007_009841.png', '2011_002200.png', '2009_000744.png', '2010_005223.png', '2009_004561.png', '2008_003135.png', '2007_008645.png', '2007_000039.png', '2009_000309.png', '2011_002553.png', '2008_000107.png', '2008_004776.png', '2008_007273.png', '2010_004210.png', '2007_008821.png', '2010_000065.png', '2009_000156.png', '2007_003373.png', '2008_005668.png', '2011_000293.png', '2008_003500.png', '2007_008670.png', '2009_004247.png', '2010_003956.png', '2011_002872.png', '2007_001175.png', '2009_001197.png', '2007_000822.png', '2007_002618.png', '2008_005006.png', '2007_005705.png', '2007_000061.png', '2009_003378.png', '2008_005512.png', '2008_001231.png', '2008_007025.png', '2010_003231.png', '2010_000682.png', '2008_004869.png', '2008_000391.png', '2011_002675.png', '2010_002907.png', '2008_006509.png', '2009_000603.png', '2008_008525.png', '2010_005891.png', '2009_004336.png', '2011_000277.png', '2011_001166.png', '2009_003711.png', '2009_003666.png', '2007_006348.png', '2008_003492.png', '2009_004425.png', '2010_002794.png', '2010_004933.png', '2008_003034.png', '2010_002786.png', '2010_004063.png', '2007_003668.png', '2007_000241.png', '2007_002597.png', '2007_009592.png', '2007_000332.png', '2010_000904.png', '2011_001546.png', '2008_004911.png', '2007_006444.png', '2009_003576.png', '2008_001971.png', '2011_001489.png', '2011_000840.png', '2008_007194.png', '2008_002929.png', '2007_009580.png', '2010_004616.png', '2007_007624.png', '2008_003369.png', '2010_005468.png', '2009_000553.png', '2007_009684.png', '2007_009088.png', '2009_002993.png', '2007_005547.png', '2007_002198.png', '2009_001851.png', '2011_002178.png', '2010_000519.png', '2010_004005.png', '2010_004783.png', '2007_003711.png', '2009_001027.png', '2010_005159.png', '2008_000848.png', '2009_004969.png', '2008_001491.png', '2007_004189.png', '2009_002202.png', '2008_000676.png', '2007_003267.png', '2011_002391.png', '2007_008764.png', '2008_001263.png', '2009_001388.png', '2009_000732.png', '2009_002117.png', '2009_001768.png', '2008_001688.png', '2007_001439.png', '2008_001546.png', '2009_003054.png', '2011_001674.png', '2007_005696.png', '2011_001292.png', '2011_001064.png', '2007_005358.png', '2008_004552.png', '2010_004025.png', '2007_003106.png', '2008_001203.png', '2011_000228.png', '2009_001505.png', '2007_007230.png', '2009_001802.png', '2010_002137.png', '2007_007795.png', '2010_005353.png', '2010_001852.png', '2009_004409.png', '2010_000284.png', '2011_002575.png', '2011_002947.png', '2011_000771.png', '2007_006212.png', '2007_007235.png', '2010_002538.png', '2007_001630.png', '2008_004112.png', '2011_000661.png', '2007_002426.png', '2008_000595.png', '2010_000675.png', '2010_001418.png', '2007_005331.png', '2010_000814.png', '2009_001636.png', '2008_000645.png', '2011_000920.png', '2010_003384.png', '2007_008948.png', '2010_001676.png', '2009_001270.png', '2010_005366.png', '2007_006680.png', '2010_000117.png', '2008_005637.png', '2009_000727.png', '2009_002221.png', '2011_002119.png', '2008_002749.png', '2010_003362.png', '2008_006874.png', '2007_000783.png', '2008_000510.png', '2010_001562.png', '2010_003665.png', '2008_000120.png', '2008_003947.png', '2008_006070.png', '2007_007523.png', '2009_004509.png', '2009_004643.png', '2009_003450.png', '2007_000904.png', '2007_000676.png', '2010_000887.png', '2011_000669.png', '2010_004104.png', '2009_000177.png', '2009_001765.png', '2009_004278.png', '2008_005398.png', '2009_001363.png', '2008_000711.png', '2009_000351.png', '2008_002762.png', '2009_002165.png', '2009_002519.png', '2008_006752.png', '2008_005445.png', '2008_000841.png', '2009_003804.png', '2007_009295.png', '2011_002623.png', '2010_003634.png', '2011_000310.png', '2011_001988.png', '2007_000661.png', '2007_005264.png', '2007_004537.png', '2010_003708.png', '2010_006034.png', '2009_002613.png', '2009_000039.png', '2011_002040.png', '2007_006549.png', '2009_000012.png', '2010_003418.png', '2007_004627.png', '2010_001752.png', '2010_000961.png', '2010_004543.png', '2010_004472.png', '2008_000399.png', '2009_003849.png', '2009_000347.png', '2009_005302.png', '2011_000216.png', '2007_000323.png', '2007_009554.png', '2008_002942.png', '2009_004539.png', '2008_002182.png', '2010_001451.png', '2007_002107.png', '2009_005038.png', '2007_001568.png', '2008_002429.png', '2008_005633.png', '2010_000679.png', '2010_005721.png', '2008_003333.png', '2009_003059.png', '2008_008462.png', '2011_002641.png', '2008_001467.png', '2007_005430.png', '2011_000882.png', '2008_002710.png', '2011_002953.png', '2008_002411.png', '2010_000043.png', '2009_002530.png', '2011_001416.png', '2009_003646.png', '2011_001652.png', '2009_004590.png', '2008_008335.png', '2009_001868.png', '2008_004654.png', '2009_000412.png', '2008_000495.png', '2009_004987.png', '2010_001939.png', '2010_001151.png', '2011_003011.png', '2009_000720.png', '2008_002835.png', '2007_006171.png', '2010_003119.png', '2011_002932.png', '2009_001972.png', '2007_003786.png', '2009_000100.png', '2010_001956.png', '2008_005375.png', '2007_008722.png', '2007_007849.png', '2008_008773.png', '2009_005084.png', '2007_007649.png', '2010_001590.png', '2010_001842.png', '2007_007810.png', '2009_001854.png', '2009_004653.png', '2007_009794.png', '2009_002416.png', '2010_001131.png', '2008_006182.png', '2008_002215.png', '2009_001314.png', '2011_003151.png', '2011_001004.png', '2008_001719.png', '2007_002668.png', '2009_000662.png', '2008_000187.png', '2008_007123.png', '2010_003884.png', '2007_005064.png', '2009_002588.png', '2007_000549.png', '2009_005118.png', '2008_000215.png', '2007_003571.png', '2010_005788.png', '2008_008393.png', '2010_001376.png', '2010_001177.png', '2010_002811.png', '2010_001160.png', '2011_002385.png', '2008_005231.png', '2007_008222.png', '2007_003431.png', '2010_004258.png', '2007_004951.png', '2007_007651.png', '2009_002314.png', '2010_005111.png', '2010_002682.png', '2011_000208.png', '2007_002565.png', '2010_005678.png', '2007_009756.png', '2007_007948.png', '2010_005899.png', '2011_000243.png', '2009_001137.png', '2008_000626.png', '2009_001651.png', '2009_000991.png', '2009_005000.png', '2009_003353.png', '2010_000685.png', '2010_001016.png', '2010_000855.png', '2007_003889.png', '2007_006028.png', '2007_003134.png', '2007_006134.png', '2007_003101.png', '2008_000074.png', '2008_002775.png', '2008_007357.png', '2011_002951.png', '2010_002551.png', '2010_000309.png', '2007_007818.png', '2008_003108.png', '2007_000762.png', '2008_001040.png', '2011_001589.png', '2010_004550.png', '2009_001422.png', '2009_001240.png', '2011_000651.png', '2007_006678.png', '2010_004120.png', '2008_007433.png', '2011_000070.png', '2009_004504.png', '2011_002511.png', '2010_001515.png', '2009_002366.png', '2008_003379.png', '2009_002082.png', '2010_003675.png', '2008_008541.png', '2009_003087.png', '2008_007201.png', '2008_001821.png', '2007_004193.png', '2011_000652.png', '2011_000637.png', '2008_000782.png', '2011_002713.png', '2009_003607.png', '2011_002041.png', '2010_005531.png', '2009_002265.png', '2009_004674.png', '2007_004500.png', '2008_003676.png', '2007_003011.png', '2009_000690.png', '2009_002423.png', '2010_004556.png', '2008_001308.png', '2007_003194.png', '2010_001282.png', '2007_006530.png', '2007_002088.png', '2010_005982.png', '2007_001594.png', '2007_000636.png', '2008_005839.png', '2010_000148.png', '2010_004772.png', '2008_000400.png', '2008_008263.png', '2009_002268.png', '2009_000080.png', '2009_004939.png', '2009_003895.png', '2009_003938.png', '2007_004423.png', '2009_001684.png', '2008_001274.png', '2009_003080.png', '2008_004259.png', '2009_002674.png', '2008_006325.png', '2008_000733.png', '2010_005669.png', '2008_007165.png', '2010_005932.png', '2008_002958.png', '2007_001073.png', '2008_000273.png', '2007_006864.png', '2008_001510.png', '2009_000096.png', '2007_000170.png', '2011_000149.png', '2011_001536.png', '2011_001754.png', '2007_008571.png', '2009_002164.png', '2008_004822.png', '2011_001642.png', '2010_000748.png', '2010_004856.png', '2007_006615.png', '2010_005305.png', '2009_000998.png', '2007_002639.png', '2008_006140.png', '2008_007012.png', '2009_002856.png', '2008_001610.png', '2008_000271.png', '2007_009899.png', '2011_002107.png', '2007_002895.png', '2011_001432.png', '2011_001542.png', '2009_002291.png', '2010_005317.png', '2008_002495.png', '2009_000894.png', '2009_000335.png', '2008_004610.png', '2010_000195.png', '2008_001013.png', '2009_002409.png', '2007_005130.png', '2009_004464.png', '2009_000919.png', '2009_004125.png', '2009_003164.png', '2007_003143.png', '2007_007534.png', '2010_005166.png', '2010_004815.png', '2008_002383.png', '2008_005262.png', '2009_001663.png', '2008_006215.png', '2007_004483.png', '2010_002310.png', '2011_003055.png', '2009_000455.png', '2009_002763.png', '2009_002425.png', '2009_001443.png', '2009_001625.png', '2011_002410.png', '2007_009209.png', '2008_005714.png', '2011_002279.png', '2009_003697.png', '2009_001019.png', '2008_001716.png', '2007_002967.png', '2008_006143.png', '2010_000160.png', '2010_001933.png', '2009_003991.png', '2010_000628.png', '2007_009216.png', '2008_005439.png', '2008_006722.png', '2008_003858.png', '2010_002146.png', '2007_001586.png', '2008_007242.png', '2010_004419.png', '2010_000952.png', '2007_004081.png', '2009_001002.png', '2009_001615.png', '2009_002649.png', '2007_008084.png', '2011_002350.png', '2007_008994.png', '2011_000428.png', '2010_000683.png', '2010_000436.png', '2009_004805.png', '2007_007891.png', '2009_003815.png', '2010_003239.png', '2010_004625.png', '2007_000243.png', '2008_008770.png', '2007_007415.png', '2010_001561.png', '2010_002455.png', '2010_003768.png', '2011_001287.png', '2009_002346.png', '2010_000216.png', '2007_002119.png', '2007_007477.png', '2010_001849.png', '2008_005294.png', '2011_003019.png', '2009_002245.png', '2007_003529.png', '2010_003925.png', '2008_007858.png', '2010_005758.png', '2011_000843.png', '2011_001027.png', '2008_005600.png', '2008_003856.png', '2011_001790.png', '2008_000336.png', '2007_008256.png', '2010_002150.png', '2007_007203.png', '2009_001096.png', '2010_002838.png', '2010_001962.png', '2007_006373.png', '2008_007497.png', '2008_003709.png', '2010_004369.png', '2007_001487.png', '2009_000242.png', '2010_000622.png', '2007_004558.png', '2011_000973.png', '2007_007772.png', '2007_008106.png', '2010_005746.png', '2010_004763.png', '2007_002545.png', '2010_002939.png', '2011_001967.png', '2009_005107.png', '2010_000906.png', '2009_005137.png', '2008_008476.png', '2010_001000.png', '2008_002704.png', '2008_006481.png', '2008_004687.png', '2008_001387.png', '2008_000238.png', '2007_005266.png', '2010_005888.png', '2009_001264.png', '2010_004109.png', '2011_001991.png', '2010_002450.png', '2010_004529.png', '2009_003466.png', '2009_005260.png', '2008_002221.png', '2010_001264.png', '2008_006341.png', '2009_003771.png', '2009_004070.png', '2010_001347.png', '2007_001595.png', '2010_003345.png', '2007_003367.png', '2009_002789.png', '2008_002993.png', '2011_002149.png', '2008_007507.png', '2010_003174.png', '2008_001188.png', '2007_007881.png', '2008_001874.png', '2011_001710.png', '2008_001640.png', '2007_009419.png', '2007_009436.png', '2007_002427.png', '2009_000121.png', '2009_004895.png', '2010_006070.png', '2009_002422.png', '2007_001872.png', '2008_000923.png', '2009_002567.png', '2008_005541.png', '2011_001974.png', '2010_003854.png', '2008_003329.png', '2008_000016.png', '2010_000318.png', '2009_002749.png', '2008_007498.png', '2008_008193.png', '2007_000042.png', '2007_003131.png', '2009_002594.png', '2010_002962.png', '2009_004579.png', '2009_002543.png', '2010_002363.png', '2007_005647.png', '2011_000027.png', '2010_004938.png', '2011_000145.png', '2008_004892.png', '2011_002343.png', '2010_005232.png', '2007_003207.png', '2008_001260.png', '2010_001767.png', '2011_001313.png', '2010_004119.png', '2009_005189.png', '2007_001960.png', '2011_000790.png', '2010_001579.png', '2008_004453.png', '2007_009691.png', '2010_004180.png', '2011_002335.png', '2010_002286.png', '2011_002246.png', '2008_003821.png', '2010_004760.png', '2008_005300.png', '2009_001502.png', '2010_005284.png', '2009_004687.png', '2007_001917.png', '2007_004705.png', '2009_003928.png', '2008_005945.png', '2008_006784.png', '2010_005705.png', '2009_003455.png', '2010_005978.png', '2009_001036.png', '2010_004773.png', '2009_005078.png', '2009_003249.png', '2011_001745.png', '2008_001159.png', '2010_003468.png', '2009_002072.png', '2007_003020.png', '2011_001959.png', '2007_000862.png', '2011_002656.png', '2009_002153.png', '2010_003541.png', '2010_003250.png', '2009_000839.png', '2009_004446.png', '2010_002870.png', '2008_006480.png', '2007_006117.png', '2011_000944.png', '2010_003781.png', '2011_000607.png', '2010_003737.png', '2011_001866.png', '2010_001908.png', '2011_002156.png', '2010_005734.png', '2009_000879.png', '2007_002376.png', '2010_003813.png', '2007_008526.png', '2009_001082.png', '2009_002035.png', '2007_003580.png', '2007_006086.png', '2009_002460.png', '2010_004165.png', '2011_002457.png', '2008_002650.png', '2007_007783.png', '2009_002928.png', '2010_001923.png', '2008_001829.png', '2008_008746.png', '2008_005691.png', '2009_002651.png', '2007_000876.png', '2008_002868.png', '2008_000785.png', '2008_004583.png', '2011_001346.png', '2009_002844.png', '2007_003593.png', '2008_003814.png', '2011_002135.png', '2007_001408.png', '2008_003180.png', '2007_000121.png', '2008_005525.png', '2010_000083.png', '2010_000632.png', '2009_002097.png', '2007_000515.png', '2011_000221.png', '2010_001251.png', '2007_007084.png', '2008_007527.png', '2011_002341.png', '2010_004540.png', '2009_003857.png', '2011_000239.png', '2010_005898.png', '2007_007414.png', '2011_002317.png', '2009_000828.png', '2010_000038.png', '2010_002935.png', '2010_005709.png', '2007_002643.png', '2008_002834.png', '2008_004701.png', '2010_001706.png', '2010_004766.png', '2010_002161.png', '2007_009251.png', '2010_005606.png', '2007_003587.png', '2009_002390.png', '2008_007239.png', '2007_002387.png', '2008_000254.png', '2010_001944.png', '2010_004432.png', '2010_000492.png', '2010_004481.png', '2010_005471.png', '2007_002824.png', '2011_002150.png', '2009_000006.png', '2009_003142.png', '2011_000830.png', '2007_009422.png', '2010_001768.png', '2010_000189.png', '2009_002012.png', '2010_004520.png', '2009_001100.png', '2010_001174.png', '2008_008252.png', '2009_003539.png', '2010_003798.png', '2009_001683.png', '2009_000532.png', '2008_005049.png', '2007_008203.png', '2007_006449.png', '2010_004337.png', '2007_007908.png', '2011_001622.png', '2010_003887.png', '2008_007048.png', '2008_000657.png', '2008_000673.png', '2010_004186.png', '2009_005220.png', '2008_000630.png', '2008_004279.png', '2011_000526.png', '2010_003132.png', '2009_001311.png', '2008_003238.png', '2007_002760.png', '2011_003256.png', '2011_002300.png', '2009_003542.png', '2009_004919.png', '2009_003549.png', '2011_000982.png', '2007_002132.png', '2010_004382.png', '2007_006673.png', '2007_007726.png', '2011_002929.png', '2007_005828.png', '2011_001139.png', '2010_000174.png', '2008_007120.png', '2010_002232.png', '2008_005245.png', '2010_002254.png', '2010_002070.png', '2010_004208.png', '2009_004368.png', '2008_007691.png', '2009_002343.png', '2008_000197.png', '2009_003806.png', '2011_001614.png', '2007_005173.png', '2007_003205.png', '2010_002988.png', '2008_007513.png', '2010_006009.png', '2010_000372.png', '2010_002030.png', '2010_000110.png', '2007_006560.png', '2010_003097.png', '2007_006585.png', '2010_002422.png', '2008_005713.png', '2007_007836.png', '2011_002247.png', '2009_000716.png', '2008_006345.png', '2008_002425.png', '2010_005344.png', '2008_007836.png', '2009_004748.png', '2007_003815.png', '2007_007130.png', '2010_002815.png', '2007_006647.png', '2008_003026.png', '2007_003137.png', '2011_000969.png', '2011_001519.png', '2010_001563.png', '2008_000662.png', '2007_006661.png', '2009_003065.png', '2007_009764.png', '2008_001119.png', '2008_000345.png', '2010_001413.png', '2007_007930.png', '2010_001913.png', '2009_003224.png', '2009_002445.png', '2009_002914.png', '2008_000422.png', '2008_002338.png', '2009_002715.png', '2011_001281.png', '2007_001857.png', '2010_004361.png', '2007_005688.png', '2010_001206.png', '2011_002956.png', '2009_000924.png', '2007_006317.png', '2008_003065.png', '2007_006004.png', '2011_000379.png', '2007_009322.png', '2009_003323.png', '2008_000764.png', '2009_001205.png', '2010_005700.png', '2010_002097.png', '2009_001411.png', '2011_002535.png', '2009_000385.png', '2010_003293.png', '2007_009533.png', '2009_004519.png', '2008_006835.png', '2008_005706.png', '2010_002697.png', '2007_004003.png', '2011_002767.png', '2011_001708.png', '2011_002002.png', '2007_009258.png', '2009_004497.png', '2007_004033.png', '2011_001730.png', '2009_003006.png', '2011_000178.png', '2007_009348.png', '2009_000505.png', '2009_002982.png', '2011_002504.png', '2011_002652.png', '2010_002440.png', '2010_003473.png', '2008_003110.png', '2008_007011.png', '2008_000501.png', '2011_002997.png', '2010_004306.png', '2007_005626.png', '2010_004060.png', '2007_000175.png', '2008_003926.png', '2008_006981.png', '2007_000847.png', '2008_001547.png', '2008_002864.png', '2011_001534.png', '2008_001643.png', '2011_000112.png', '2008_004854.png', '2010_003183.png', '2007_008051.png', '2009_000712.png', '2011_001232.png', '2011_000953.png', '2008_005812.png', '2009_004592.png', '2009_004620.png', '2010_002166.png', '2007_002046.png', '2008_008545.png', '2011_001350.png', '2009_004117.png', '2010_002139.png', '2011_001463.png', '2010_003381.png', '2010_003014.png', '2011_002532.png', '2009_003903.png', '2010_000285.png', '2007_009709.png', '2011_001868.png', '2007_001458.png', '2009_004426.png', '2010_000666.png', '2007_009665.png', '2008_001070.png', '2009_000626.png', '2008_001741.png', '2008_000235.png', '2008_007392.png', '2007_008072.png', '2007_005262.png', '2007_001416.png', '2010_004683.png', '2009_000895.png', '2010_000874.png', '2007_009030.png', '2007_008815.png', '2010_005457.png', '2008_003846.png', '2008_004430.png', '2009_005055.png', '2010_000241.png', '2008_005679.png', '2009_000705.png', '2010_005810.png', '2010_003651.png', '2008_001408.png', '2009_000675.png', '2009_005287.png', '2008_004588.png', '2007_005859.png', '2010_005644.png', '2011_000468.png', '2009_003304.png', '2010_001313.png', '2008_000716.png', '2009_003053.png', '2009_003468.png', '2010_003365.png', '2008_004026.png', '2011_000503.png', '2010_004478.png', '2009_000488.png', '2011_001447.png', '2010_003275.png', '2007_003530.png', '2010_001660.png', '2010_003088.png', '2009_000655.png', '2007_000129.png', '2009_002808.png', '2007_009947.png', '2007_000727.png', '2007_003188.png', '2009_002229.png', '2009_003146.png', '2011_003141.png', '2007_007902.png', '2008_005196.png', '2010_005643.png', '2009_002264.png', '2011_001875.png', '2007_005951.png', '2007_005368.png', '2008_006032.png', '2011_001863.png', '2011_000456.png', '2011_000999.png', '2007_002227.png', '2008_001135.png', '2011_000548.png', '2010_004789.png', '2010_000572.png', '2010_005217.png', '2008_002247.png', '2007_003022.png', '2008_006008.png', '2010_003252.png', '2008_007811.png', '2010_002203.png', '2009_001894.png', '2007_009649.png', '2009_002539.png', '2011_001904.png', '2007_008778.png', '2007_003506.png', '2009_002083.png', '2009_000635.png', '2010_001331.png', '2011_001855.png', '2008_002079.png', '2011_000934.png', '2008_007245.png', '2009_004626.png', '2008_007759.png', '2007_000793.png', '2009_003736.png', '2008_003729.png', '2009_002204.png', '2009_001215.png', '2010_005706.png', '2008_008127.png', '2009_001850.png', '2011_003145.png', '2010_002536.png', '2010_001070.png', '2009_002362.png', '2007_000256.png', '2010_001043.png', '2007_002281.png', '2009_002487.png', '2011_002592.png', '2010_000639.png', '2009_003975.png', '2007_008468.png', '2007_004856.png', '2009_002372.png', '2010_002039.png', '2011_001928.png', '2010_000567.png', '2009_004171.png', '2011_000436.png', '2008_000188.png', '2010_002379.png', '2011_001902.png', '2007_009068.png', '2010_006026.png', '2009_002042.png', '2010_002527.png', '2009_004095.png', '2011_000268.png', '2009_000285.png', '2011_003038.png', '2011_000641.png', '2007_005988.png', '2007_003190.png', '2011_002124.png', '2009_004301.png', '2008_000359.png', '2011_002885.png', '2007_000663.png', '2009_003088.png', '2009_000938.png', '2009_000161.png', '2011_002488.png', '2007_008714.png', '2008_003691.png', '2008_000080.png', '2008_004575.png', '2007_001423.png', '2008_000217.png', '2011_000219.png', '2011_000438.png', '2007_005759.png', '2007_004121.png', '2008_006254.png', '2008_003076.png', '2008_001137.png', '2010_003534.png', '2008_005145.png', '2010_005401.png', '2007_001299.png', '2009_004178.png', '2008_005650.png', '2009_002885.png', '2009_005190.png', '2011_000069.png', '2007_007048.png', '2011_002050.png', '2009_000440.png', '2010_005522.png', '2008_002210.png', '2009_002317.png', '2009_000201.png', '2007_002728.png', '2011_000521.png', '2008_003885.png', '2008_004758.png', '2010_002055.png', '2007_008964.png', '2009_001535.png', '2010_003506.png', '2008_002697.png', '2008_001462.png', '2007_007748.png', '2010_001734.png', '2010_004041.png', '2007_001225.png', '2010_005318.png', '2007_000063.png', '2010_002338.png', '2007_005058.png', '2009_000469.png', '2007_001185.png', '2007_006241.png', '2010_004069.png', '2007_001340.png', '2007_002845.png', '2011_002244.png', '2008_000573.png', '2011_001475.png', '2010_002218.png', '2011_000550.png', '2010_002778.png', '2007_004902.png', '2008_001150.png', '2010_000503.png', '2011_001619.png', '2010_003325.png', '2007_003957.png', '2008_003461.png', '2008_008421.png', '2010_003597.png', '2007_006409.png', '2008_004345.png', '2009_003147.png', '2009_000420.png', '2009_004479.png', '2009_000408.png', '2010_000427.png', '2007_008801.png', '2008_000270.png', '2008_004365.png', '2011_001621.png', '2007_001239.png', '2010_002902.png', '2007_002914.png', '2007_000830.png', '2009_002573.png', '2008_004562.png', '2010_000003.png', '2008_005738.png', '2011_001259.png', '2008_004910.png', '2007_004392.png', '2009_003043.png', '2011_000382.png', '2009_003820.png', '2010_004861.png', '2010_004289.png', '2009_005234.png', '2008_000131.png', '2008_000223.png', '2007_000346.png', '2008_000105.png', '2011_002585.png', '2008_001992.png', '2008_005716.png', '2007_002954.png', '2010_001619.png', '2010_003746.png', '2010_000187.png', '2008_000182.png', '2008_002160.png', '2011_002308.png', '2010_000772.png', '2007_002619.png', '2009_000628.png', '2007_007688.png', '2007_009923.png', '2008_005544.png', '2010_000559.png', '2007_005911.png', '2008_004069.png', '2008_006275.png', '2007_009706.png', '2009_000562.png', '2007_004476.png', '2008_000811.png', '2011_002578.png', '2010_005519.png', '2011_000222.png', '2009_004417.png', '2007_009252.png', '2009_001339.png', '2011_002709.png', '2008_004704.png', '2007_005978.png', '2010_004219.png', '2009_005069.png', '2010_002025.png', '2011_000051.png', '2008_001399.png', '2011_001713.png', '2007_004948.png', '2008_006229.png', '2007_007530.png', '2010_001656.png', '2007_009687.png', '2009_004789.png', '2011_000912.png', '2011_000513.png', '2009_002238.png', '2007_004649.png', '2007_004190.png', '2008_000795.png', '2009_001008.png', '2009_002599.png', '2009_003589.png', '2007_006400.png', '2010_005046.png', '2007_009327.png', '2010_004963.png', '2009_000641.png', '2009_000457.png', '2008_000763.png', '2008_006063.png', '2008_001566.png', '2011_002110.png', '2009_002628.png', '2008_002258.png', '2011_001748.png', '2009_000446.png', '2007_002896.png', '2007_009654.png', '2008_004914.png', '2008_002623.png', '2007_001825.png', '2009_002734.png', '2008_008296.png', '2007_000333.png', '2011_001114.png', '2011_002027.png', '2008_005345.png', '2008_000832.png', '2007_002361.png', '2009_005085.png', '2007_007878.png', '2011_002993.png', '2010_004825.png', '2009_003551.png', '2011_003103.png', '2008_005367.png', '2009_004890.png', '2008_003451.png', '2007_006477.png', '2009_002521.png', '2011_000152.png', '2010_005428.png', '2011_000457.png', '2011_000758.png', '2007_009750.png', '2010_003696.png', '2009_002584.png', '2011_000888.png', '2007_000529.png', '2008_007945.png', '2010_003409.png', '2010_002792.png', '2008_000033.png', '2011_001812.png', '2008_004477.png', '2008_008343.png', '2008_004705.png', '2009_001755.png', '2009_004990.png', '2010_005055.png', '2010_003060.png', '2008_006353.png', '2009_002988.png', '2007_001602.png', '2008_007142.png', '2009_003387.png', '2007_000364.png', '2011_001924.png', '2009_002932.png', '2008_002248.png', '2010_005506.png', '2008_000162.png', '2007_006946.png', '2007_004663.png', '2011_000809.png', '2007_009331.png', '2009_003343.png', '2010_000330.png', '2011_003246.png', '2009_003690.png', '2008_002972.png', '2010_002556.png', '2007_003503.png', '2009_004980.png', '2009_003519.png', '2008_005197.png', '2010_003958.png', '2011_002863.png', '2010_001351.png', '2008_000089.png', '2009_004043.png', '2010_005513.png', '2009_000845.png', '2009_001516.png', '2009_001640.png', '2007_000720.png', '2007_000925.png', '2010_005744.png', '2008_007581.png', '2008_005422.png', '2008_002205.png', '2008_003939.png', '2009_001898.png', '2009_003105.png', '2007_003251.png', '2011_001810.png', '2007_000804.png', '2010_001292.png', '2010_005496.png', '2011_002371.png', '2008_000144.png', '2008_000123.png', '2009_001145.png', '2007_006802.png', '2008_008434.png', '2009_001444.png', '2008_000919.png', '2007_001587.png', '2010_002512.png', '2008_007737.png', '2008_001966.png', '2009_000523.png', '2009_005217.png', '2009_000205.png', '2009_000219.png', '2011_002447.png', '2010_000437.png', '2011_001069.png', '2008_005642.png', '2008_003523.png', '2010_000788.png', '2007_001884.png', '2009_000906.png', '2011_001782.png', '2011_001402.png', '2009_003063.png', '2008_003703.png', '2007_000572.png', '2007_007947.png', '2010_003203.png', '2009_000136.png', '2010_004662.png', '2010_005450.png', '2008_002123.png', '2009_003241.png', '2008_000309.png', '2007_000528.png', '2007_006445.png', '2009_000149.png', '2007_002400.png', '2011_001862.png', '2008_000474.png', '2008_005938.png', '2009_005120.png', '2007_004969.png', '2007_002266.png', '2008_006216.png', '2008_006482.png', '2007_003910.png', '2010_004429.png', '2009_003971.png', '2010_002532.png', '2008_001169.png', '2010_004320.png', '2010_000978.png', '2010_003514.png', '2010_005626.png', '2007_004768.png', '2010_003383.png', '2007_004289.png', '2011_002975.png', '2010_001011.png', '2007_006277.png', '2011_001529.png', '2008_006655.png', '2007_009938.png', '2011_002222.png', '2010_002271.png', '2010_000335.png', '2008_005727.png', '2009_002591.png', '2007_007211.png', '2008_000226.png', '2011_002098.png', '2008_001682.png', '2010_002147.png', '2008_002358.png', '2011_003271.png', '2007_001955.png', '2008_004551.png', '2011_002227.png', '2011_002327.png', '2010_005991.png', '2007_003565.png', '2011_000185.png', '2007_009897.png', '2008_008051.png', '2011_000793.png', '2007_004275.png', '2011_001005.png', '2008_002960.png', '2007_007698.png', '2009_004594.png', '2008_003913.png', '2011_002381.png', '2007_009052.png', '2011_001175.png', '2009_003768.png', '2007_008945.png', '2007_003742.png', '2008_008392.png', '2009_003406.png', '2010_003971.png', '2008_006554.png', '2008_003003.png', '2010_005028.png', '2007_001027.png', '2010_004072.png', '2010_003716.png', '2010_005800.png', '2010_005805.png', '2008_000725.png', '2008_000696.png', '2010_004370.png', '2008_001375.png', '2007_005702.png', '2010_000131.png', '2008_001215.png', '2010_003093.png', '2009_003005.png', '2008_001629.png', '2008_006703.png', '2010_005494.png', '2011_000618.png', '2008_005843.png', '2010_000422.png', '2010_003010.png', '2010_005664.png', '2008_000436.png', '2007_008260.png', '2008_003210.png', '2007_002823.png', '2007_006490.png', '2007_009435.png', '2010_004560.png', '2009_002419.png', '2011_000248.png', '2007_008430.png', '2011_002590.png', '2008_002772.png', '2007_001397.png', '2009_002415.png', '2007_008219.png', '2010_001036.png', '2010_005534.png', '2011_001714.png', '2011_000895.png', '2009_004228.png', '2010_005252.png', '2011_002389.png', '2008_000491.png', '2008_001513.png', '2009_004084.png', '2007_003541.png', '2010_002868.png', '2011_003121.png', '2010_000787.png', '2007_009446.png', '2011_000258.png', '2008_003701.png', '2008_002288.png', '2008_000284.png', '2008_000700.png', '2010_003799.png', '2008_004055.png', '2011_002935.png', '2010_000159.png', '2009_004105.png', '2010_005202.png', '2010_004056.png', '2008_000515.png', '2011_000551.png', '2010_005596.png', '2007_002903.png', '2010_001246.png', '2009_001283.png', '2007_002953.png', '2008_002904.png', '2009_001251.png', '2010_001860.png', '2008_002200.png', '2008_001074.png', '2007_003621.png', '2007_001149.png', '2008_000348.png', '2009_000103.png', '2007_003169.png', '2007_009096.png', '2011_000556.png', '2007_006944.png', '2011_000789.png', '2007_007003.png', '2008_005680.png', '2007_006841.png', '2009_003481.png', '2007_007007.png', '2010_003062.png', '2009_001146.png', '2010_003670.png', '2007_003917.png', '2010_000724.png', '2011_000283.png', '2007_006553.png', '2007_007021.png', '2009_000421.png', '2009_001783.png', '2007_008980.png', '2008_001926.png', '2011_001082.png', '2007_002368.png', '2007_002539.png', '2011_001613.png', '2008_004101.png', '2009_002897.png', '2011_000312.png', '2007_001377.png', '2010_003894.png', '2008_001235.png', '2009_005262.png', '2009_003090.png', '2010_001061.png', '2007_000629.png', '2007_005074.png', '2008_004363.png', '2010_004493.png', '2010_005160.png', '2008_007350.png', '2010_001457.png', '2008_004212.png', '2010_001807.png', '2010_005877.png', '2010_002382.png', '2007_004241.png', '2009_004180.png', '2010_002154.png', '2008_005678.png', '2009_001885.png', '2007_009605.png', '2007_004481.png', '2008_000589.png', '2007_002378.png', '2010_005063.png', '2009_004316.png', '2009_001390.png', '2009_004801.png', '2009_004099.png', '2007_003991.png', '2007_003118.png', '2010_003599.png', '2010_001017.png', '2009_001941.png', '2007_006254.png', '2007_008407.png', '2010_000661.png', '2011_002398.png', '2009_000989.png', '2009_000535.png', '2010_004598.png', '2007_007195.png', '2011_000642.png', '2010_002305.png', '2008_003480.png', '2008_001478.png', '2011_003114.png', '2008_002064.png', '2011_002770.png', '2007_006035.png', '2011_000345.png', '2010_003380.png', '2007_008897.png', '2007_005469.png', '2009_002562.png', '2011_002920.png', '2007_009911.png', '2007_004380.png', '2008_001056.png', '2008_006339.png', '2007_001154.png', '2010_005421.png', '2010_005108.png', '2007_005043.png', '2009_005037.png', '2007_008415.png', '2009_001922.png', '2010_004980.png', '2007_009245.png', '2007_001585.png', '2008_008106.png', '2007_002094.png', '2008_006389.png', '2009_001300.png', '2010_003114.png', '2008_003087.png', '2009_000029.png', '2010_002251.png', '2008_001404.png', '2009_002535.png', '2008_003362.png', '2007_001284.png', '2007_007398.png', '2009_002094.png', '2010_002020.png', '2010_005129.png', '2008_000075.png', '2010_005501.png', '2010_003820.png', '2011_003003.png', '2007_005144.png', '2008_000149.png', '2009_003504.png', '2009_000176.png', '2009_005130.png', '2010_005796.png', '2009_000133.png', '2011_001601.png', '2011_003146.png', '2007_006704.png', '2010_002413.png', '2010_000746.png', '2010_001553.png', '2011_001567.png', '2008_003986.png', '2011_001060.png', '2011_001211.png', '2008_000544.png', '2010_000342.png', '2010_000738.png', '2010_005180.png', '2010_005508.png', '2008_006408.png', '2007_003604.png', '2008_006036.png', '2010_000573.png', '2010_004355.png', '2007_004707.png', '2008_004621.png', '2007_004166.png', '2007_005114.png', '2011_001597.png', '2009_003783.png', '2008_008221.png', '2007_005304.png', '2009_004434.png', '2009_002604.png', '2011_000173.png', '2007_007098.png', '2008_002212.png', '2010_002387.png', '2007_002624.png', '2011_001190.png', '2009_001687.png', '2008_000073.png', '2008_006751.png', '2007_006803.png', '2007_009759.png', '2008_003083.png', '2010_004857.png', '2009_002972.png', '2007_008085.png', '2010_001851.png', '2010_004154.png', '2009_001775.png', '2008_004663.png', '2010_001367.png', '2010_001329.png', '2010_004365.png', '2008_001358.png', '2010_003302.png', '2009_000418.png', '2009_004140.png', '2009_003860.png', '2011_002561.png', '2011_001895.png', '2007_004468.png', '2008_000588.png', '2008_003477.png', '2011_000900.png', '2008_007677.png', '2009_004848.png', '2008_002152.png', '2010_005871.png', '2008_002551.png', '2009_003703.png', '2008_003094.png', '2009_000022.png', '2008_007804.png', '2007_001704.png', '2010_001184.png', '2009_003193.png', '2010_004916.png', '2008_002900.png', '2008_006349.png', '2008_000470.png', '2010_002733.png', '2007_001834.png', '2009_004859.png', '2008_006289.png', '2010_004171.png', '2009_001299.png', '2010_001630.png', '2007_005086.png', '2011_001047.png', '2009_004942.png', '2009_000996.png', '2011_000768.png', '2009_000935.png', '2010_002032.png', '2010_005791.png', '2007_002470.png', '2007_001288.png', '2008_001895.png', '2010_005419.png', '2009_003497.png', '2008_003196.png', '2009_002527.png', '2011_001276.png', '2010_002348.png', '2008_000464.png', '2007_009807.png', '2009_002185.png', '2010_004635.png', '2007_008927.png', '2008_001439.png', '2007_005428.png', '2008_007378.png', '2009_003071.png', '2010_003453.png', '2010_003911.png', '2008_004358.png', '2008_007998.png', '2008_006219.png', '2009_005141.png', '2011_000807.png', '2008_000911.png', '2007_009724.png', '2007_007447.png', '2007_001709.png', '2008_004750.png', '2008_005089.png', '2008_006065.png', '2007_003451.png', '2010_000588.png', '2009_001385.png', '2007_007498.png', '2007_006900.png', '2007_005107.png', '2009_003345.png', '2010_003772.png', '2007_003201.png', '2009_005148.png', '2010_002361.png', '2007_008403.png', '2010_004283.png', '2007_003286.png', '2011_000238.png', '2009_000426.png', '2007_000123.png', '2007_001677.png', '2007_005857.png', '2008_001787.png', '2011_002752.png', '2009_001481.png', '2009_001104.png', '2007_009458.png', '2011_000182.png', '2007_004866.png', '2007_006151.png', '2007_009082.png', '2009_004494.png', '2009_002626.png', '2009_000013.png', '2009_002912.png', '2010_001951.png', '2009_000354.png', '2008_004175.png', '2008_001170.png', '2010_000885.png', '2011_002559.png', '2008_001402.png', '2009_001818.png', '2009_002122.png', '2008_003585.png', '2009_000074.png', '2010_001830.png', '2010_001576.png', '2007_008142.png', '2011_002528.png', '2011_002291.png', '2008_002719.png', '2009_000409.png', '2008_001118.png', '2007_005273.png', '2007_005210.png', '2009_003523.png', '2011_001270.png', '2009_003035.png', '2008_003511.png', '2007_006837.png', '2008_001504.png', '2008_007355.png', '2011_000252.png', '2010_003899.png', '2007_006660.png', '2007_004810.png', '2010_001773.png', '2010_000087.png', '2010_002236.png', '2008_004321.png', '2008_002273.png', '2010_000498.png', '2008_003155.png', '2008_003998.png', '2011_002548.png', '2010_005723.png', '2007_005608.png', '2008_005904.png', '2011_001669.png', '2007_001761.png', '2010_003529.png', '2010_000076.png', '2008_004080.png', '2010_005505.png', '2011_002589.png', '2010_005021.png', '2009_000664.png', '2010_001534.png', '2010_002892.png', '2009_001724.png', '2009_003433.png', '2010_005575.png', '2010_000269.png', '2007_005248.png', '2008_006055.png', '2009_000454.png', '2009_000723.png', '2008_006920.png', '2010_004694.png', '2008_002473.png', '2007_002719.png', '2011_000638.png', '2008_000401.png', '2008_003782.png', '2011_003240.png', '2009_003172.png', '2010_001386.png', '2011_000419.png', '2007_007996.png', '2011_001922.png', '2007_009630.png', '2010_005433.png', '2009_000391.png', '2008_007143.png', '2009_003640.png', '2007_002648.png', '2010_002900.png', '2007_006066.png', '2009_003123.png', '2009_002216.png', '2010_005429.png', '2008_007402.png', '2010_001618.png', '2011_001407.png', '2009_004721.png', '2011_001910.png', '2007_009562.png', '2011_000025.png', '2011_000536.png', '2007_001698.png', '2008_001715.png', '2008_005074.png', '2007_005354.png', '2010_003771.png', '2009_004334.png', '2009_000032.png', '2010_004628.png', '2010_002573.png', '2007_005212.png', '2008_001479.png', '2009_000015.png', '2007_008973.png', '2009_004886.png', '2010_002418.png', '2010_005652.png', '2008_001885.png', '2009_004993.png', '2009_003007.png', '2009_004249.png', '2009_000250.png', '2007_003088.png', '2008_000287.png', '2007_004644.png', '2009_001433.png', '2007_004538.png', '2007_005689.png', '2009_004705.png', '2007_009320.png', '2007_008944.png', '2008_001601.png', '2009_004264.png', '2008_002067.png', '2008_003562.png', '2010_005725.png', '2008_006221.png', '2007_005790.png', '2011_001421.png', '2008_006877.png', '2008_002859.png', '2007_005509.png', '2008_003068.png', '2011_000449.png', '2009_001514.png', '2008_000365.png', '2011_000455.png', '2011_000481.png', '2007_007417.png', '2008_000015.png', '2010_003531.png', '2009_002984.png', '2008_002269.png', '2010_005277.png', '2011_003238.png', '2010_003547.png', '2007_004052.png', '2008_007994.png', '2010_002200.png', '2008_005242.png', '2007_008708.png', '2010_002142.png', '2007_008204.png', '2007_002789.png', '2010_004721.png', '2009_003494.png', '2011_000226.png', '2010_000764.png', '2007_005360.png', '2010_001195.png', '2010_002763.png', '2008_000207.png', '2007_004510.png', '2008_002073.png', '2009_002171.png', '2007_000068.png', '2008_001245.png', '2009_004904.png', '2011_001161.png', '2008_000602.png', '2008_007797.png', '2009_003299.png', '2009_003858.png', '2010_003758.png', '2009_004033.png', '2007_004459.png', '2007_005902.png', '2011_000577.png', '2007_005844.png', '2008_000765.png', '2009_004255.png', '2007_003189.png', '2010_001922.png', '2007_002120.png', '2009_002635.png', '2008_007828.png', '2007_003876.png', '2011_002358.png', '2009_004635.png', '2009_002549.png', '2010_001261.png', '2010_005128.png', '2008_003330.png', '2010_005016.png', '2010_000986.png', '2008_005105.png', '2007_006699.png', '2007_008307.png', '2009_003773.png', '2011_002715.png', '2009_003734.png', '2007_002445.png', '2007_006046.png', '2011_000566.png', '2010_000163.png']\n"
          ]
        }
      ]
    },
    {
      "cell_type": "code",
      "source": [
        "data[0].shape"
      ],
      "metadata": {
        "colab": {
          "base_uri": "https://localhost:8080/"
        },
        "id": "ZxwHT_5K9_oI",
        "outputId": "1c60a61d-301b-42bd-e465-bec72793bc7f"
      },
      "execution_count": null,
      "outputs": [
        {
          "output_type": "execute_result",
          "data": {
            "text/plain": [
              "(288, 224, 224, 3)"
            ]
          },
          "metadata": {},
          "execution_count": 69
        }
      ]
    },
    {
      "cell_type": "code",
      "source": [
        "data[1].shape\n"
      ],
      "metadata": {
        "colab": {
          "base_uri": "https://localhost:8080/"
        },
        "id": "-mWRAdIg-DNL",
        "outputId": "1726cea9-bd94-49dc-a0eb-6be7a27b2620"
      },
      "execution_count": null,
      "outputs": [
        {
          "output_type": "execute_result",
          "data": {
            "text/plain": [
              "(288, 224, 224, 3)"
            ]
          },
          "metadata": {},
          "execution_count": 68
        }
      ]
    },
    {
      "cell_type": "markdown",
      "source": [
        "#Model architecture"
      ],
      "metadata": {
        "id": "qvlH56d5TcuI"
      }
    },
    {
      "cell_type": "code",
      "source": [
        "def build_model(input_layer, start_neurons):\n",
        "    conv1 = Conv2D(start_neurons * 1, (3, 3), activation=\"relu\", padding=\"same\")(input_layer)\n",
        "    conv1 = Conv2D(start_neurons * 1, (3, 3), activation=\"relu\", padding=\"same\")(conv1)\n",
        "    pool1 = MaxPooling2D((2, 2))(conv1)\n",
        "    pool1 = Dropout(0.25)(pool1)\n",
        "\n",
        "    conv2 = Conv2D(start_neurons * 2, (3, 3), activation=\"relu\", padding=\"same\")(pool1)\n",
        "    conv2 = Conv2D(start_neurons * 2, (3, 3), activation=\"relu\", padding=\"same\")(conv2)\n",
        "    pool2 = MaxPooling2D((2, 2))(conv2)\n",
        "    pool2 = Dropout(0.5)(pool2)\n",
        "\n",
        "    conv3 = Conv2D(start_neurons * 4, (3, 3), activation=\"relu\", padding=\"same\")(pool2)\n",
        "    conv3 = Conv2D(start_neurons * 4, (3, 3), activation=\"relu\", padding=\"same\")(conv3)\n",
        "    pool3 = MaxPooling2D((2, 2))(conv3)\n",
        "    pool3 = Dropout(0.5)(pool3)\n",
        "\n",
        "    conv4 = Conv2D(start_neurons * 8, (3, 3), activation=\"relu\", padding=\"same\")(pool3)\n",
        "    conv4 = Conv2D(start_neurons * 8, (3, 3), activation=\"relu\", padding=\"same\")(conv4)\n",
        "    pool4 = MaxPooling2D((2, 2))(conv4)\n",
        "    pool4 = Dropout(0.5)(pool4)\n",
        "\n",
        "    # Middle\n",
        "    convm = Conv2D(start_neurons * 16, (3, 3), activation=\"relu\", padding=\"same\")(pool4)\n",
        "    convm = Conv2D(start_neurons * 16, (3, 3), activation=\"relu\", padding=\"same\")(convm)\n",
        "\n",
        "    deconv4 = Conv2DTranspose(start_neurons * 8, (3, 3), strides=(2, 2), padding=\"same\")(convm)\n",
        "    uconv4 = concatenate([deconv4, conv4])\n",
        "    uconv4 = Dropout(0.5)(uconv4)\n",
        "    uconv4 = Conv2D(start_neurons * 8, (3, 3), activation=\"relu\", padding=\"same\")(uconv4)\n",
        "    uconv4 = Conv2D(start_neurons * 8, (3, 3), activation=\"relu\", padding=\"same\")(uconv4)\n",
        "\n",
        "    deconv3 = Conv2DTranspose(start_neurons * 4, (3, 3), strides=(2, 2), padding=\"same\")(uconv4)\n",
        "    uconv3 = concatenate([deconv3, conv3])\n",
        "    uconv3 = Dropout(0.5)(uconv3)\n",
        "    uconv3 = Conv2D(start_neurons * 4, (3, 3), activation=\"relu\", padding=\"same\")(uconv3)\n",
        "    uconv3 = Conv2D(start_neurons * 4, (3, 3), activation=\"relu\", padding=\"same\")(uconv3)\n",
        "\n",
        "    deconv2 = Conv2DTranspose(start_neurons * 2, (3, 3), strides=(2, 2), padding=\"same\")(uconv3)\n",
        "    uconv2 = concatenate([deconv2, conv2])\n",
        "    uconv2 = Dropout(0.5)(uconv2)\n",
        "    uconv2 = Conv2D(start_neurons * 2, (3, 3), activation=\"relu\", padding=\"same\")(uconv2)\n",
        "    uconv2 = Conv2D(start_neurons * 2, (3, 3), activation=\"relu\", padding=\"same\")(uconv2)\n",
        "\n",
        "    deconv1 = Conv2DTranspose(start_neurons * 1, (3, 3), strides=(2, 2), padding=\"same\")(uconv2)\n",
        "    uconv1 = concatenate([deconv1, conv1])\n",
        "    uconv1 = Dropout(0.5)(uconv1)\n",
        "    uconv1 = Conv2D(start_neurons * 1, (3, 3), activation=\"relu\", padding=\"same\")(uconv1)\n",
        "    uconv1 = Conv2D(start_neurons * 1, (3, 3), activation=\"relu\", padding=\"same\")(uconv1)\n",
        "\n",
        "    output_layer = Conv2D(3, (1,1), padding=\"same\", activation=\"sigmoid\")(uconv1)\n",
        "\n",
        "    return output_layer\n",
        "img_size_target=224\n",
        "input_layer = Input((img_size_target, img_size_target, 3))\n",
        "output_layer = build_model(input_layer, 16)"
      ],
      "metadata": {
        "id": "xew9e6nQhztq"
      },
      "execution_count": null,
      "outputs": []
    },
    {
      "cell_type": "markdown",
      "source": [
        "Loss function"
      ],
      "metadata": {
        "id": "Tr3jyAdJ8Ki5"
      }
    },
    {
      "cell_type": "code",
      "source": [
        "def soft_dice_loss(y_true, y_pred, epsilon=1e-6):\n",
        "\n",
        "\n",
        "    # skip the batch and class axis for calculating Dice score\n",
        "    axes = tuple(range(1, len(y_pred.shape)-1))\n",
        "    numerator = 2. * np.sum(y_pred * y_true, axes)\n",
        "    denominator = np.sum(np.square(y_pred) + np.square(y_true), axes)\n",
        "\n",
        "    return 1 - np.mean((numerator + epsilon) / (denominator + epsilon)) # average over classes and batch\n",
        ""
      ],
      "metadata": {
        "id": "7U9GRp_H8J5i"
      },
      "execution_count": null,
      "outputs": []
    },
    {
      "cell_type": "code",
      "source": [
        "# model = Model(inputs=input_layer, outputs=output_layer)\n",
        "# model.compile(optimizer='adam',loss=tf.keras.losses.SparseCategoricalCrossentropy(from_logits=True),metrics=['accuracy'])\n",
        "# model = Model(inputs=input_layer, outputs=output_layer)\n",
        "# model.compile(optimizer='adam',loss=soft_dice_loss,metrics=['accuracy'])\n",
        "model = Model(inputs=input_layer, outputs=output_layer)\n",
        "model.compile(optimizer='adam',loss='categorical_crossentropy',metrics=['accuracy'])\n",
        "\n",
        "model.summary()"
      ],
      "metadata": {
        "id": "SZ_oXLAChzrZ",
        "colab": {
          "base_uri": "https://localhost:8080/"
        },
        "outputId": "31f3e048-a355-477d-97bb-975a10ce0356"
      },
      "execution_count": null,
      "outputs": [
        {
          "output_type": "stream",
          "name": "stdout",
          "text": [
            "Model: \"model_11\"\n",
            "__________________________________________________________________________________________________\n",
            " Layer (type)                   Output Shape         Param #     Connected to                     \n",
            "==================================================================================================\n",
            " input_2 (InputLayer)           [(None, 224, 224, 3  0           []                               \n",
            "                                )]                                                                \n",
            "                                                                                                  \n",
            " conv2d_19 (Conv2D)             (None, 224, 224, 16  448         ['input_2[0][0]']                \n",
            "                                )                                                                 \n",
            "                                                                                                  \n",
            " conv2d_20 (Conv2D)             (None, 224, 224, 16  2320        ['conv2d_19[0][0]']              \n",
            "                                )                                                                 \n",
            "                                                                                                  \n",
            " max_pooling2d_4 (MaxPooling2D)  (None, 112, 112, 16  0          ['conv2d_20[0][0]']              \n",
            "                                )                                                                 \n",
            "                                                                                                  \n",
            " dropout_8 (Dropout)            (None, 112, 112, 16  0           ['max_pooling2d_4[0][0]']        \n",
            "                                )                                                                 \n",
            "                                                                                                  \n",
            " conv2d_21 (Conv2D)             (None, 112, 112, 32  4640        ['dropout_8[0][0]']              \n",
            "                                )                                                                 \n",
            "                                                                                                  \n",
            " conv2d_22 (Conv2D)             (None, 112, 112, 32  9248        ['conv2d_21[0][0]']              \n",
            "                                )                                                                 \n",
            "                                                                                                  \n",
            " max_pooling2d_5 (MaxPooling2D)  (None, 56, 56, 32)  0           ['conv2d_22[0][0]']              \n",
            "                                                                                                  \n",
            " dropout_9 (Dropout)            (None, 56, 56, 32)   0           ['max_pooling2d_5[0][0]']        \n",
            "                                                                                                  \n",
            " conv2d_23 (Conv2D)             (None, 56, 56, 64)   18496       ['dropout_9[0][0]']              \n",
            "                                                                                                  \n",
            " conv2d_24 (Conv2D)             (None, 56, 56, 64)   36928       ['conv2d_23[0][0]']              \n",
            "                                                                                                  \n",
            " max_pooling2d_6 (MaxPooling2D)  (None, 28, 28, 64)  0           ['conv2d_24[0][0]']              \n",
            "                                                                                                  \n",
            " dropout_10 (Dropout)           (None, 28, 28, 64)   0           ['max_pooling2d_6[0][0]']        \n",
            "                                                                                                  \n",
            " conv2d_25 (Conv2D)             (None, 28, 28, 128)  73856       ['dropout_10[0][0]']             \n",
            "                                                                                                  \n",
            " conv2d_26 (Conv2D)             (None, 28, 28, 128)  147584      ['conv2d_25[0][0]']              \n",
            "                                                                                                  \n",
            " max_pooling2d_7 (MaxPooling2D)  (None, 14, 14, 128)  0          ['conv2d_26[0][0]']              \n",
            "                                                                                                  \n",
            " dropout_11 (Dropout)           (None, 14, 14, 128)  0           ['max_pooling2d_7[0][0]']        \n",
            "                                                                                                  \n",
            " conv2d_27 (Conv2D)             (None, 14, 14, 256)  295168      ['dropout_11[0][0]']             \n",
            "                                                                                                  \n",
            " conv2d_28 (Conv2D)             (None, 14, 14, 256)  590080      ['conv2d_27[0][0]']              \n",
            "                                                                                                  \n",
            " conv2d_transpose_4 (Conv2DTran  (None, 28, 28, 128)  295040     ['conv2d_28[0][0]']              \n",
            " spose)                                                                                           \n",
            "                                                                                                  \n",
            " concatenate_4 (Concatenate)    (None, 28, 28, 256)  0           ['conv2d_transpose_4[0][0]',     \n",
            "                                                                  'conv2d_26[0][0]']              \n",
            "                                                                                                  \n",
            " dropout_12 (Dropout)           (None, 28, 28, 256)  0           ['concatenate_4[0][0]']          \n",
            "                                                                                                  \n",
            " conv2d_29 (Conv2D)             (None, 28, 28, 128)  295040      ['dropout_12[0][0]']             \n",
            "                                                                                                  \n",
            " conv2d_30 (Conv2D)             (None, 28, 28, 128)  147584      ['conv2d_29[0][0]']              \n",
            "                                                                                                  \n",
            " conv2d_transpose_5 (Conv2DTran  (None, 56, 56, 64)  73792       ['conv2d_30[0][0]']              \n",
            " spose)                                                                                           \n",
            "                                                                                                  \n",
            " concatenate_5 (Concatenate)    (None, 56, 56, 128)  0           ['conv2d_transpose_5[0][0]',     \n",
            "                                                                  'conv2d_24[0][0]']              \n",
            "                                                                                                  \n",
            " dropout_13 (Dropout)           (None, 56, 56, 128)  0           ['concatenate_5[0][0]']          \n",
            "                                                                                                  \n",
            " conv2d_31 (Conv2D)             (None, 56, 56, 64)   73792       ['dropout_13[0][0]']             \n",
            "                                                                                                  \n",
            " conv2d_32 (Conv2D)             (None, 56, 56, 64)   36928       ['conv2d_31[0][0]']              \n",
            "                                                                                                  \n",
            " conv2d_transpose_6 (Conv2DTran  (None, 112, 112, 32  18464      ['conv2d_32[0][0]']              \n",
            " spose)                         )                                                                 \n",
            "                                                                                                  \n",
            " concatenate_6 (Concatenate)    (None, 112, 112, 64  0           ['conv2d_transpose_6[0][0]',     \n",
            "                                )                                 'conv2d_22[0][0]']              \n",
            "                                                                                                  \n",
            " dropout_14 (Dropout)           (None, 112, 112, 64  0           ['concatenate_6[0][0]']          \n",
            "                                )                                                                 \n",
            "                                                                                                  \n",
            " conv2d_33 (Conv2D)             (None, 112, 112, 32  18464       ['dropout_14[0][0]']             \n",
            "                                )                                                                 \n",
            "                                                                                                  \n",
            " conv2d_34 (Conv2D)             (None, 112, 112, 32  9248        ['conv2d_33[0][0]']              \n",
            "                                )                                                                 \n",
            "                                                                                                  \n",
            " conv2d_transpose_7 (Conv2DTran  (None, 224, 224, 16  4624       ['conv2d_34[0][0]']              \n",
            " spose)                         )                                                                 \n",
            "                                                                                                  \n",
            " concatenate_7 (Concatenate)    (None, 224, 224, 32  0           ['conv2d_transpose_7[0][0]',     \n",
            "                                )                                 'conv2d_20[0][0]']              \n",
            "                                                                                                  \n",
            " dropout_15 (Dropout)           (None, 224, 224, 32  0           ['concatenate_7[0][0]']          \n",
            "                                )                                                                 \n",
            "                                                                                                  \n",
            " conv2d_35 (Conv2D)             (None, 224, 224, 16  4624        ['dropout_15[0][0]']             \n",
            "                                )                                                                 \n",
            "                                                                                                  \n",
            " conv2d_36 (Conv2D)             (None, 224, 224, 16  2320        ['conv2d_35[0][0]']              \n",
            "                                )                                                                 \n",
            "                                                                                                  \n",
            " conv2d_37 (Conv2D)             (None, 224, 224, 3)  51          ['conv2d_36[0][0]']              \n",
            "                                                                                                  \n",
            "==================================================================================================\n",
            "Total params: 2,158,739\n",
            "Trainable params: 2,158,739\n",
            "Non-trainable params: 0\n",
            "__________________________________________________________________________________________________\n"
          ]
        }
      ]
    },
    {
      "cell_type": "markdown",
      "source": [
        "#Model training"
      ],
      "metadata": {
        "id": "YuRXn0oNTvFU"
      }
    },
    {
      "cell_type": "code",
      "source": [
        "model.fit(data[0],data[1],steps_per_epoch=8,epochs=10,validation_split=0.2)"
      ],
      "metadata": {
        "id": "PNsRzQqmTzWN",
        "colab": {
          "base_uri": "https://localhost:8080/"
        },
        "outputId": "ad13b18d-57df-408b-b296-5ef0ef33eaf7"
      },
      "execution_count": null,
      "outputs": [
        {
          "output_type": "stream",
          "name": "stdout",
          "text": [
            "Epoch 1/10\n",
            "8/8 [==============================] - 63s 2s/step - loss: 4.3269 - accuracy: 0.5014 - val_loss: 1.5229 - val_accuracy: 0.6303\n",
            "Epoch 2/10\n",
            "8/8 [==============================] - 5s 578ms/step - loss: 1.3123 - accuracy: 0.5691 - val_loss: 0.9214 - val_accuracy: 0.6156\n",
            "Epoch 3/10\n",
            "8/8 [==============================] - 5s 570ms/step - loss: 0.9142 - accuracy: 0.6189 - val_loss: 1.0020 - val_accuracy: 0.6404\n",
            "Epoch 4/10\n",
            "8/8 [==============================] - 4s 569ms/step - loss: 0.8140 - accuracy: 0.6743 - val_loss: 0.8795 - val_accuracy: 0.6416\n",
            "Epoch 5/10\n",
            "8/8 [==============================] - 4s 566ms/step - loss: 0.7610 - accuracy: 0.6713 - val_loss: 0.8062 - val_accuracy: 0.6425\n",
            "Epoch 6/10\n",
            "8/8 [==============================] - 4s 567ms/step - loss: 0.7327 - accuracy: 0.6789 - val_loss: 0.7939 - val_accuracy: 0.6443\n",
            "Epoch 7/10\n",
            "8/8 [==============================] - 4s 563ms/step - loss: 0.7172 - accuracy: 0.6927 - val_loss: 0.7781 - val_accuracy: 0.6452\n",
            "Epoch 8/10\n",
            "8/8 [==============================] - 4s 566ms/step - loss: 0.7034 - accuracy: 0.6971 - val_loss: 0.7576 - val_accuracy: 0.6459\n",
            "Epoch 9/10\n",
            "8/8 [==============================] - 4s 568ms/step - loss: 0.6946 - accuracy: 0.7036 - val_loss: 0.7521 - val_accuracy: 0.6463\n",
            "Epoch 10/10\n",
            "8/8 [==============================] - 4s 567ms/step - loss: 0.6839 - accuracy: 0.7017 - val_loss: 0.7365 - val_accuracy: 0.6475\n"
          ]
        },
        {
          "output_type": "execute_result",
          "data": {
            "text/plain": [
              "<keras.callbacks.History at 0x7fd77c007790>"
            ]
          },
          "metadata": {},
          "execution_count": 84
        }
      ]
    },
    {
      "cell_type": "code",
      "source": [],
      "metadata": {
        "id": "12UsSh2xTzS2"
      },
      "execution_count": null,
      "outputs": []
    },
    {
      "cell_type": "code",
      "source": [],
      "metadata": {
        "id": "ncirqddbTzQ2"
      },
      "execution_count": null,
      "outputs": []
    },
    {
      "cell_type": "code",
      "source": [],
      "metadata": {
        "id": "FCt3cMwzTzPA"
      },
      "execution_count": null,
      "outputs": []
    },
    {
      "cell_type": "code",
      "source": [
        "#  img_arr=[]\n",
        "#  seg_arr=[]\n",
        "#  for img_path in os.listdir(Train_Path)[:int(len(os.listdir(Train_Path))*0.1)]:\n",
        "\n",
        "#     try:\n",
        "#       img = (preprocess_img(Train_Path + img_path))\n",
        "#       img_arr.append(img)\n",
        "#       print(img)\n",
        "#       seg = np.array(preprocess_img(Segmentation_Path + img_path[:-3]+'png'))\n",
        "#       seg_arr.append(seg)\n",
        "#       print(seg)\n",
        "#     except:\n",
        "#       continue\n",
        "\n",
        "# train_datagen = image.ImageDataGenerator(\n",
        "#     featurewise_center=True, samplewise_center=True,\n",
        "#     featurewise_std_normalization=False, samplewise_std_normalization=True,\n",
        "#     rescale = 1./255,\n",
        "#     zoom_range=0.2,\n",
        "#     preprocessing_function=True,\n",
        "# )\n",
        "# we create two instances with the same arguments\n",
        "# from keras.preprocessing.image import ImageDataGenerator\n",
        "# data_gen_args = dict(featurewise_center=False,\n",
        "#                      featurewise_std_normalization=False,\n",
        "#                      #reshape =\n",
        "#                      rescale = 1./255,\n",
        "#                      rotation_range=90,\n",
        "#                      width_shift_range=0.1,\n",
        "#                      height_shift_range=0.1,\n",
        "#                      zoom_range=0.2)\n",
        "# image_datagen = ImageDataGenerator(**data_gen_args)\n",
        "# mask_datagen = ImageDataGenerator(**data_gen_args)\n",
        "# # Provide the same seed and keyword arguments to the fit and flow methods\n",
        "# seed = 1\n",
        "# # image_datagen.fit(images, augment=True, seed=seed)\n",
        "# # mask_datagen.fit(masks, augment=True, seed=seed)\n",
        "# image_generator = image_datagen.flow_from_directory(\n",
        "#     Train_Path,\n",
        "#     class_mode=None,\n",
        "#     seed=seed)\n",
        "# mask_generator = mask_datagen.flow_from_directory(\n",
        "#     Segmentation_Path,\n",
        "#     class_mode=None,\n",
        "#     seed=seed)\n",
        "# # combine generators into one which yields image and masks\n",
        "# train_generator = zip(image_generator, mask_generator)\n",
        "# model.fit(\n",
        "#     train_generator,\n",
        "#     steps_per_epoch=200,\n",
        "#     epochs=10)"
      ],
      "metadata": {
        "id": "3Zlh5sDbTzMH"
      },
      "execution_count": null,
      "outputs": []
    },
    {
      "cell_type": "code",
      "source": [
        ""
      ],
      "metadata": {
        "id": "bQtCO-l8RA8X"
      },
      "execution_count": null,
      "outputs": []
    },
    {
      "cell_type": "code",
      "source": [
        "# def data_generator(batch_size=30):\n",
        "#   Xtrain=[]\n",
        "#   img_arr =[]\n",
        "#   seg_arr =[]\n",
        "#   total = len(os.listdir(Train_Path))\n",
        "#   n=0\n",
        "\n",
        "\n",
        "#   for img_path in os.listdir(Train_Path)[:int(total*0.5)]:\n",
        "\n",
        "#     try:\n",
        "#       img = (preprocess_img(Train_Path + img_path))\n",
        "#       img_arr.append(img)\n",
        "#       seg = np.array(preprocess_img(Segmentation_Path + img_path[:-3]+\".png\"))\n",
        "#       seg_arr.append(seg)\n",
        "#       #Xtrain=preprocess_input(np.array([np.array(img_arr),np.array(seg_arr)]))\n",
        "#       n+=1\n",
        "#     except:\n",
        "#       continue\n",
        "\n",
        "\n",
        "\n",
        "#     if n==batch_size:\n",
        "\n",
        "#                     #print([np.array(img_arr),np.array(seg_arr)].shape)\n",
        "#                     yield (np.array(img_arr),np.array(seg_arr))\n",
        "#                     img_arr=[]\n",
        "#                     seg_arr=[]\n",
        "#                     n = 0\n",
        "\n",
        "\n"
      ],
      "metadata": {
        "id": "z2jITgJ-_LXR"
      },
      "execution_count": null,
      "outputs": []
    },
    {
      "cell_type": "code",
      "source": [
        "# for i in range(1500):\n",
        "#   if os.listdir(Segmentation_Path)[i] ==os.listdir(Train_Path)[i]:\n",
        "#     print(os.listdir(Segmentation_Path)[i])"
      ],
      "metadata": {
        "id": "SUPcPF3BNUm4"
      },
      "execution_count": null,
      "outputs": []
    },
    {
      "cell_type": "code",
      "source": [
        "# print(os.listdir(Segmentation_Path))"
      ],
      "metadata": {
        "colab": {
          "base_uri": "https://localhost:8080/"
        },
        "id": "ghrq71RENyRY",
        "outputId": "61af4654-42d9-4551-ed0f-4fc3da1f9b7f"
      },
      "execution_count": null,
      "outputs": [
        {
          "output_type": "stream",
          "name": "stdout",
          "text": [
            "['2009_000029.png', '2010_005217.png', '2011_001082.png', '2010_004669.png', '2008_001404.png', '2008_002240.png', '2011_002244.png', '2010_001367.png', '2009_000998.png', '2007_002668.png', '2008_005345.png', '2011_002385.png', '2010_004283.png', '2007_009832.png', '2009_001270.png', '2008_002960.png', '2011_002851.png', '2008_000361.png', '2008_004321.png', '2010_005644.png', '2010_003060.png', '2007_009295.png', '2009_000505.png', '2008_003060.png', '2007_005314.png', '2011_001530.png', '2008_006108.png', '2010_002030.png', '2008_000316.png', '2011_000768.png', '2010_003325.png', '2008_001640.png', '2009_001391.png', '2008_005262.png', '2009_003607.png', '2010_002937.png', '2007_002281.png', '2008_003913.png', '2009_000354.png', '2010_000117.png', '2007_007947.png', '2010_001852.png', '2007_000738.png', '2010_003899.png', '2007_003957.png', '2008_006345.png', '2008_006752.png', '2010_003409.png', '2010_003239.png', '2010_004683.png', '2007_005803.png', '2009_002165.png', '2007_008932.png', '2010_005046.png', '2011_001463.png', '2009_002543.png', '2008_000626.png', '2011_002872.png', '2007_005107.png', '2008_005367.png', '2008_001882.png', '2011_000025.png', '2011_001232.png', '2007_001594.png', '2009_004434.png', '2008_003329.png', '2009_003039.png', '2010_003250.png', '2011_002150.png', '2009_000664.png', '2008_003814.png', '2007_001834.png', '2007_006171.png', '2008_000284.png', '2010_001956.png', '2010_005991.png', '2010_003813.png', '2008_001235.png', '2008_000491.png', '2011_002754.png', '2008_001274.png', '2007_004291.png', '2010_004805.png', '2009_005031.png', '2011_002993.png', '2007_009630.png', '2007_003367.png', '2009_001104.png', '2009_000712.png', '2007_003118.png', '2007_009521.png', '2007_003889.png', '2011_001546.png', '2011_002752.png', '2010_001331.png', '2008_005105.png', '2008_000074.png', '2010_000885.png', '2009_002808.png', '2007_005058.png', '2007_008219.png', '2008_002177.png', '2009_001802.png', '2010_005055.png', '2009_000503.png', '2007_003106.png', '2011_001412.png', '2007_003286.png', '2009_004890.png', '2007_008142.png', '2008_000602.png', '2010_001448.png', '2008_006008.png', '2008_002650.png', '2010_005836.png', '2009_001505.png', '2009_000096.png', '2010_000083.png', '2011_001336.png', '2008_007378.png', '2008_003499.png', '2010_004005.png', '2009_000931.png', '2011_002178.png', '2009_002425.png', '2010_000075.png', '2011_003145.png', '2011_001341.png', '2011_002107.png', '2009_001008.png', '2007_004649.png', '2010_000076.png', '2009_004105.png', '2010_001820.png', '2010_005432.png', '2008_004892.png', '2010_003737.png', '2007_009901.png', '2008_003094.png', '2007_001289.png', '2007_000346.png', '2010_002018.png', '2007_006837.png', '2009_003241.png', '2009_004070.png', '2008_003087.png', '2007_002462.png', '2009_002343.png', '2009_003369.png', '2007_009649.png', '2010_002701.png', '2007_001430.png', '2009_002549.png', '2008_004441.png', '2009_001264.png', '2010_003675.png', '2007_000572.png', '2011_000234.png', '2009_004790.png', '2007_004988.png', '2011_001810.png', '2008_002067.png', '2008_001074.png', '2010_005721.png', '2007_002055.png', '2007_003191.png', '2011_002947.png', '2008_006216.png', '2008_003155.png', '2007_002619.png', '2010_004946.png', '2007_003178.png', '2009_004336.png', '2010_003446.png', '2010_000748.png', '2008_002680.png', '2011_000789.png', '2009_004799.png', '2009_000573.png', '2007_003143.png', '2007_005469.png', '2009_003904.png', '2008_003769.png', '2009_004504.png', '2008_000760.png', '2007_002914.png', '2007_006585.png', '2007_003587.png', '2008_001592.png', '2009_003387.png', '2011_001972.png', '2011_001135.png', '2007_007902.png', '2011_003240.png', '2008_006784.png', '2008_004575.png', '2009_000037.png', '2008_003585.png', '2008_001260.png', '2008_000182.png', '2009_001888.png', '2010_004560.png', '2010_002032.png', '2007_001568.png', '2007_003668.png', '2008_000415.png', '2010_005700.png', '2008_000711.png', '2008_004547.png', '2008_000348.png', '2010_001515.png', '2010_003187.png', '2007_009413.png', '2010_000772.png', '2007_009323.png', '2007_003604.png', '2007_003711.png', '2011_001910.png', '2009_000924.png', '2011_002222.png', '2010_001347.png', '2008_003703.png', '2011_000874.png', '2010_001630.png', '2008_005938.png', '2008_006908.png', '2011_002350.png', '2010_003974.png', '2007_007688.png', '2010_003534.png', '2007_003051.png', '2007_000876.png', '2008_000764.png', '2011_001782.png', '2008_006528.png', '2008_007120.png', '2009_004705.png', '2009_001385.png', '2007_001761.png', '2008_002970.png', '2009_001693.png', '2008_005637.png', '2011_001775.png', '2010_001692.png', '2009_004732.png', '2007_008747.png', '2007_002403.png', '2009_002317.png', '2009_000879.png', '2008_003947.png', '2009_000015.png', '2008_008421.png', '2008_001719.png', '2007_001027.png', '2008_001510.png', '2008_001169.png', '2008_007737.png', '2007_009419.png', '2009_005130.png', '2010_001174.png', '2009_003815.png', '2011_001794.png', '2007_003503.png', '2009_001816.png', '2007_007815.png', '2009_000103.png', '2008_003939.png', '2007_005689.png', '2007_001397.png', '2009_001481.png', '2008_006063.png', '2009_004091.png', '2008_003415.png', '2011_000145.png', '2007_006490.png', '2008_004659.png', '2010_001850.png', '2011_001984.png', '2007_000904.png', '2007_002387.png', '2010_003183.png', '2008_005642.png', '2011_002561.png', '2009_003494.png', '2011_001027.png', '2008_000870.png', '2007_004951.png', '2008_007031.png', '2007_000063.png', '2008_002492.png', '2010_005245.png', '2009_004592.png', '2007_004537.png', '2009_001117.png', '2007_009015.png', '2011_000790.png', '2011_001190.png', '2011_001281.png', '2011_003011.png', '2010_004980.png', '2009_001544.png', '2008_008335.png', '2009_002789.png', '2007_007477.png', '2009_005069.png', '2007_004627.png', '2009_002571.png', '2010_000087.png', '2007_003714.png', '2011_000556.png', '2007_003541.png', '2007_000039.png', '2008_000540.png', '2007_007748.png', '2010_004481.png', '2008_005845.png', '2008_005445.png', '2009_002382.png', '2009_003498.png', '2008_005217.png', '2008_005628.png', '2009_002060.png', '2007_004193.png', '2010_001399.png', '2008_004069.png', '2010_000110.png', '2011_003019.png', '2008_000123.png', '2011_000934.png', '2008_002221.png', '2010_001256.png', '2008_000501.png', '2008_007581.png', '2009_003196.png', '2007_008526.png', '2008_004701.png', '2008_001215.png', '2010_001036.png', '2010_005064.png', '2007_000836.png', '2010_003014.png', '2007_006449.png', '2010_001374.png', '2008_002900.png', '2009_003707.png', '2008_000725.png', '2010_001908.png', '2009_005148.png', '2008_006143.png', '2009_004180.png', '2010_005705.png', '2009_004247.png', '2008_005945.png', '2008_000731.png', '2010_000685.png', '2008_004014.png', '2007_007481.png', '2008_008393.png', '2009_001664.png', '2010_000573.png', '2007_008973.png', '2010_005664.png', '2008_000187.png', '2010_001264.png', '2007_008106.png', '2010_001752.png', '2009_002012.png', '2010_003947.png', '2010_001183.png', '2009_001433.png', '2009_002932.png', '2010_005198.png', '2011_001432.png', '2011_002135.png', '2008_003110.png', '2008_004612.png', '2008_005678.png', '2010_005180.png', '2008_008545.png', '2007_002426.png', '2008_002778.png', '2009_003783.png', '2009_002732.png', '2008_000662.png', '2009_002535.png', '2009_004140.png', '2011_000228.png', '2010_002532.png', '2009_004221.png', '2010_005166.png', '2007_006232.png', '2010_000160.png', '2010_003529.png', '2010_001768.png', '2007_004841.png', '2007_002088.png', '2009_002419.png', '2008_005398.png', '2010_002017.png', '2009_000156.png', '2010_001403.png', '2007_002618.png', '2011_000834.png', '2010_002455.png', '2011_002341.png', '2008_002248.png', '2007_001587.png', '2007_007048.png', '2009_005177.png', '2008_000234.png', '2009_004579.png', '2011_001614.png', '2011_000661.png', '2008_008103.png', '2009_005220.png', '2008_000588.png', '2008_008051.png', '2011_001069.png', '2009_000895.png', '2007_002412.png', '2011_002504.png', '2009_002727.png', '2010_001734.png', '2011_000793.png', '2008_007350.png', '2007_003611.png', '2007_001602.png', '2009_002914.png', '2007_006832.png', '2008_001135.png', '2010_001016.png', '2009_003075.png', '2007_006802.png', '2011_000277.png', '2011_001060.png', '2009_003849.png', '2010_005982.png', '2007_006004.png', '2008_000287.png', '2010_001590.png', '2008_008746.png', '2009_004919.png', '2009_000028.png', '2008_001498.png', '2010_004289.png', '2011_001895.png', '2009_000523.png', '2010_004519.png', '2008_003782.png', '2009_004324.png', '2007_008764.png', '2008_003429.png', '2009_001363.png', '2010_005500.png', '2008_005716.png', '2007_000068.png', '2010_003093.png', '2008_001829.png', '2010_003269.png', '2010_005800.png', '2010_004144.png', '2009_002771.png', '2010_005028.png', '2009_004178.png', '2007_004143.png', '2008_000033.png', '2009_002285.png', '2008_000089.png', '2009_004021.png', '2008_005338.png', '2010_002139.png', '2011_002885.png', '2009_000351.png', '2007_001585.png', '2007_005988.png', '2009_002229.png', '2007_005360.png', '2009_004455.png', '2011_001166.png', '2008_002473.png', '2009_003172.png', '2010_001522.png', '2007_006553.png', '2007_008596.png', '2008_001821.png', '2009_000457.png', '2007_009084.png', '2011_001902.png', '2008_001106.png', '2009_004859.png', '2007_001423.png', '2009_003043.png', '2008_000495.png', '2010_005344.png', '2010_004598.png', '2009_000219.png', '2009_002202.png', '2007_002378.png', '2007_003786.png', '2011_002575.png', '2011_001020.png', '2010_001104.png', '2008_007472.png', '2008_006182.png', '2010_001807.png', '2009_001941.png', '2009_004590.png', '2011_002464.png', '2011_003025.png', '2008_002273.png', '2009_001314.png', '2011_002879.png', '2009_001565.png', '2007_005878.png', '2009_005085.png', '2008_001170.png', '2010_001184.png', '2011_001765.png', '2008_001413.png', '2011_001571.png', '2011_002644.png', '2009_002216.png', '2009_000987.png', '2007_000363.png', '2008_007797.png', '2009_000440.png', '2009_001851.png', '2008_001716.png', '2009_002888.png', '2010_003418.png', '2009_005217.png', '2007_003876.png', '2008_005915.png', '2011_001653.png', '2011_001411.png', '2008_005097.png', '2009_003317.png', '2010_002390.png', '2011_002295.png', '2009_000989.png', '2011_002098.png', '2009_003087.png', '2007_003451.png', '2009_001854.png', '2007_003330.png', '2007_003011.png', '2011_002662.png', '2007_009665.png', '2008_002719.png', '2008_008127.png', '2011_002247.png', '2008_007355.png', '2010_001563.png', '2008_002623.png', '2011_000900.png', '2008_003492.png', '2011_001862.png', '2010_004478.png', '2010_004577.png', '2007_008801.png', '2008_007548.png', '2009_002539.png', '2011_002457.png', '2007_007621.png', '2010_004355.png', '2009_003497.png', '2007_003088.png', '2007_009392.png', '2010_001011.png', '2007_001884.png', '2010_002418.png', '2009_004635.png', '2009_003146.png', '2007_000464.png', '2009_004969.png', '2008_002864.png', '2010_000003.png', '2007_000822.png', '2007_009252.png', '2010_005428.png', '2008_005691.png', '2010_001386.png', '2008_000676.png', '2007_004476.png', '2010_005505.png', '2009_003105.png', '2011_001708.png', '2007_008307.png', '2010_004704.png', '2008_004610.png', '2008_003141.png', '2007_001154.png', '2007_000250.png', '2009_003063.png', '2009_000426.png', '2011_000208.png', '2007_006944.png', '2011_003114.png', '2011_000359.png', '2010_000906.png', '2011_000589.png', '2010_001351.png', '2009_005156.png', '2007_007849.png', '2009_002975.png', '2010_001699.png', '2010_001070.png', '2009_004661.png', '2010_001251.png', '2011_000893.png', '2008_003065.png', '2008_004624.png', '2011_000185.png', '2007_007783.png', '2010_005919.png', '2008_001682.png', '2010_002146.png', '2010_003365.png', '2008_008711.png', '2009_004653.png', '2009_004980.png', '2010_005159.png', '2007_000862.png', '2010_003097.png', '2007_004769.png', '2008_003076.png', '2009_000774.png', '2008_002749.png', '2007_007498.png', '2008_003461.png', '2007_004003.png', '2010_000238.png', '2007_003872.png', '2009_001443.png', '2007_005430.png', '2010_004635.png', '2011_002002.png', '2007_005857.png', '2011_000226.png', '2008_000860.png', '2010_004948.png', '2010_000065.png', '2008_002834.png', '2010_000189.png', '2009_003734.png', '2010_001000.png', '2008_001013.png', '2010_000682.png', '2007_000528.png', '2009_001514.png', '2010_005978.png', '2011_002317.png', '2011_000108.png', '2010_001773.png', '2008_001283.png', '2010_005506.png', '2008_008770.png', '2008_004453.png', '2010_001534.png', '2007_009889.png', '2011_002717.png', '2010_003168.png', '2009_000421.png', '2008_002080.png', '2011_003255.png', '2011_002303.png', '2010_005353.png', '2007_006046.png', '2011_001529.png', '2009_003090.png', '2010_000530.png', '2007_007530.png', '2007_000256.png', '2007_000636.png', '2009_003646.png', '2010_002551.png', '2008_000716.png', '2008_004607.png', '2010_001618.png', '2011_000400.png', '2007_008407.png', '2007_007007.png', '2010_002527.png', '2007_001416.png', '2007_009923.png', '2010_004616.png', '2009_003059.png', '2010_004479.png', '2010_005494.png', '2007_002370.png', '2009_005120.png', '2007_004712.png', '2008_003729.png', '2007_005262.png', '2007_007203.png', '2009_000454.png', '2009_001502.png', '2007_000123.png', '2009_002887.png', '2011_000438.png', '2010_003956.png', '2010_005820.png', '2007_005790.png', '2007_000713.png', '2007_009897.png', '2010_005013.png', '2007_003205.png', '2007_000333.png', '2008_002182.png', '2007_003189.png', '2009_002820.png', '2010_002659.png', '2009_003857.png', '2011_001536.png', '2008_005926.png', '2011_002590.png', '2008_003511.png', '2008_006843.png', '2011_000435.png', '2010_001010.png', '2008_005300.png', '2007_006151.png', '2010_005421.png', '2008_006434.png', '2010_001160.png', '2010_000318.png', '2011_001991.png', '2008_003876.png', '2010_005575.png', '2011_000642.png', '2009_005038.png', '2011_000345.png', '2009_002649.png', '2009_005302.png', '2009_001359.png', '2007_000762.png', '2009_002604.png', '2009_000906.png', '2011_001924.png', '2009_005190.png', '2007_005797.png', '2009_003378.png', '2010_001676.png', '2008_003665.png', '2011_000003.png', '2010_002988.png', '2009_000446.png', '2011_002156.png', '2011_001622.png', '2011_002343.png', '2010_000724.png', '2009_000408.png', '2007_003190.png', '2010_005317.png', '2010_001944.png', '2009_003507.png', '2009_002390.png', '2008_004212.png', '2009_002366.png', '2008_003986.png', '2009_005160.png', '2008_007143.png', '2008_006130.png', '2008_004841.png', '2010_001933.png', '2008_006065.png', '2008_001992.png', '2010_005534.png', '2007_009807.png', '2007_005828.png', '2009_001283.png', '2009_004990.png', '2008_005399.png', '2010_005678.png', '2008_004995.png', '2010_005888.png', '2010_005160.png', '2010_002450.png', '2007_006803.png', '2009_002409.png', '2008_002504.png', '2009_003005.png', '2010_000978.png', '2007_005600.png', '2008_001741.png', '2008_000345.png', '2010_004772.png', '2009_002472.png', '2009_002626.png', '2009_000121.png', '2010_002763.png', '2010_005805.png', '2009_004125.png', '2007_006673.png', '2011_000912.png', '2007_007417.png', '2008_001971.png', '2007_005759.png', '2010_001195.png', '2009_003343.png', '2010_000814.png', '2007_008547.png', '2007_006699.png', '2009_004328.png', '2009_003555.png', '2009_002035.png', '2009_003806.png', '2009_004409.png', '2010_005305.png', '2008_000474.png', '2007_002216.png', '2007_003580.png', '2010_005627.png', '2009_000840.png', '2009_002204.png', '2007_009088.png', '2009_003613.png', '2008_007375.png', '2010_003402.png', '2010_003768.png', '2009_001411.png', '2011_002111.png', '2010_004916.png', '2010_005927.png', '2009_004730.png', '2008_006482.png', '2008_007828.png', '2007_001311.png', '2007_003373.png', '2007_004423.png', '2010_004493.png', '2010_005366.png', '2009_003433.png', '2008_000075.png', '2010_003758.png', '2011_002503.png', '2007_002597.png', '2009_001536.png', '2010_003123.png', '2010_003231.png', '2010_002457.png', '2009_001332.png', '2010_003887.png', '2010_000941.png', '2009_003551.png', '2009_004801.png', '2008_000235.png', '2007_000584.png', '2007_009841.png', '2011_002041.png', '2007_003682.png', '2009_003922.png', '2007_004902.png', '2008_007402.png', '2010_005496.png', '2007_001458.png', '2010_001177.png', '2010_002512.png', '2010_003799.png', '2010_005531.png', '2007_009346.png', '2007_009618.png', '2011_000607.png', '2008_005676.png', '2007_008778.png', '2007_005074.png', '2010_005252.png', '2007_007836.png', '2011_000221.png', '2007_004768.png', '2007_009684.png', '2008_007194.png', '2007_006698.png', '2011_001748.png', '2009_003304.png', '2009_001644.png', '2010_005727.png', '2011_000449.png', '2008_001159.png', '2008_003874.png', '2007_008218.png', '2008_003709.png', '2009_001755.png', '2010_003495.png', '2007_004948.png', '2009_001082.png', '2008_002379.png', '2008_002495.png', '2009_000469.png', '2009_003007.png', '2009_002715.png', '2009_002567.png', '2009_000662.png', '2007_001733.png', '2010_000427.png', '2010_000002.png', '2009_004327.png', '2009_000964.png', '2009_003895.png', '2009_005087.png', '2010_005876.png', '2011_000173.png', '2011_001313.png', '2010_000342.png', '2009_003269.png', '2010_000309.png', '2009_004626.png', '2009_001782.png', '2011_000542.png', '2009_001444.png', '2009_003519.png', '2008_007945.png', '2008_006254.png', '2010_005719.png', '2011_002713.png', '2010_005174.png', '2010_005429.png', '2009_001724.png', '2008_006480.png', '2008_008323.png', '2007_009938.png', '2009_000405.png', '2009_000727.png', '2010_004060.png', '2011_000638.png', '2007_003020.png', '2009_002448.png', '2010_002166.png', '2010_004180.png', '2011_001064.png', '2009_004895.png', '2010_000284.png', '2010_004551.png', '2007_000452.png', '2007_003571.png', '2008_003821.png', '2007_004121.png', '2009_000619.png', '2009_004594.png', '2010_002097.png', '2011_001270.png', '2011_003078.png', '2009_004848.png', '2010_003276.png', '2007_000733.png', '2010_003114.png', '2008_002835.png', '2008_004175.png', '2009_000675.png', '2009_001300.png', '2009_001640.png', '2008_003026.png', '2011_001139.png', '2011_003121.png', '2008_000188.png', '2008_007497.png', '2009_001898.png', '2008_000673.png', '2010_003453.png', '2007_009068.png', '2010_004337.png', '2009_003193.png', '2007_000515.png', '2008_000215.png', '2008_000073.png', '2009_003799.png', '2011_000882.png', '2011_002291.png', '2009_004072.png', '2010_000422.png', '2009_004099.png', '2008_003200.png', '2007_006900.png', '2010_001313.png', '2011_000027.png', '2007_004722.png', '2008_000144.png', '2008_000469.png', '2008_004983.png', '2011_000068.png', '2007_009139.png', '2008_004279.png', '2009_001684.png', '2011_000479.png', '2010_005596.png', '2007_008339.png', '2010_002786.png', '2010_003950.png', '2010_002892.png', '2008_000861.png', '2007_000720.png', '2008_001439.png', '2007_000783.png', '2008_006986.png', '2009_000720.png', '2007_000629.png', '2011_000513.png', '2007_000332.png', '2010_003854.png', '2007_006134.png', '2008_006553.png', '2007_003778.png', '2010_003468.png', '2009_003468.png', '2009_003810.png', '2010_003230.png', '2009_001651.png', '2010_005106.png', '2007_004558.png', '2009_002885.png', '2009_004033.png', '2009_003640.png', '2011_002488.png', '2008_000162.png', '2007_006317.png', '2007_000033.png', '2008_001402.png', '2010_002106.png', '2011_002027.png', '2010_000918.png', '2007_008927.png', '2010_004450.png', '2011_002064.png', '2010_005284.png', '2007_002268.png', '2010_006054.png', '2009_001516.png', '2011_002200.png', '2011_002358.png', '2009_001306.png', '2008_007239.png', '2007_007250.png', '2007_000830.png', '2011_001632.png', '2010_001561.png', '2010_001557.png', '2011_002623.png', '2007_009597.png', '2007_008140.png', '2010_005758.png', '2010_005128.png', '2010_005877.png', '2011_000747.png', '2009_002849.png', '2011_001764.png', '2008_007123.png', '2010_004789.png', '2007_004166.png', '2007_001340.png', '2011_002298.png', '2010_002480.png', '2010_005318.png', '2010_004529.png', '2007_009605.png', '2010_003345.png', '2010_002856.png', '2008_001040.png', '2009_000387.png', '2011_001722.png', '2011_001665.png', '2008_000365.png', '2009_004249.png', '2011_000112.png', '2008_001629.png', '2009_004748.png', '2007_005428.png', '2007_006641.png', '2007_002120.png', '2007_004081.png', '2011_001790.png', '2007_005509.png', '2008_002772.png', '2008_002859.png', '2008_002215.png', '2009_005107.png', '2008_003523.png', '2010_004808.png', '2011_002652.png', '2007_004705.png', '2010_005755.png', '2009_004789.png', '2010_002070.png', '2007_003000.png', '2010_004960.png', '2007_007098.png', '2011_000105.png', '2009_000400.png', '2008_007011.png', '2007_004707.png', '2009_005128.png', '2011_001534.png', '2008_008324.png', '2008_001504.png', '2011_001350.png', '2009_001333.png', '2010_000469.png', '2007_002427.png', '2007_009435.png', '2007_001586.png', '2010_002055.png', '2007_001704.png', '2011_001642.png', '2009_003756.png', '2008_004399.png', '2010_004763.png', '2007_006549.png', '2008_002588.png', '2010_002570.png', '2011_000999.png', '2010_000187.png', '2011_001730.png', '2007_005845.png', '2011_001071.png', '2009_000716.png', '2008_003480.png', '2010_005513.png', '2008_003362.png', '2008_004705.png', '2009_000532.png', '2010_005775.png', '2010_001922.png', '2010_002228.png', '2010_002900.png', '2008_001387.png', '2007_009594.png', '2010_003634.png', '2010_004857.png', '2007_001239.png', '2010_000986.png', '2007_002639.png', '2010_001131.png', '2010_004933.png', '2011_000658.png', '2008_006219.png', '2009_004509.png', '2008_001375.png', '2011_000051.png', '2009_004904.png', '2010_002838.png', '2009_004687.png', '2009_004446.png', '2011_000456.png', '2011_003055.png', '2010_003252.png', '2010_004795.png', '2010_005810.png', '2008_002775.png', '2009_004561.png', '2008_000666.png', '2007_003169.png', '2007_008945.png', '2009_001027.png', '2010_005725.png', '2007_006260.png', '2007_008575.png', '2009_002238.png', '2010_003680.png', '2009_000039.png', '2008_005544.png', '2010_000195.png', '2009_004425.png', '2009_004882.png', '2008_002218.png', '2007_005844.png', '2008_005633.png', '2011_000895.png', '2009_003539.png', '2007_005813.png', '2010_005450.png', '2008_000505.png', '2010_001646.png', '2008_000782.png', '2009_002613.png', '2007_000549.png', '2011_001597.png', '2008_001491.png', '2010_002811.png', '2008_005650.png', '2010_003473.png', '2007_008204.png', '2010_003820.png', '2010_001246.png', '2009_000032.png', '2008_005770.png', '2008_005254.png', '2009_002295.png', '2011_000396.png', '2007_002824.png', '2007_005124.png', '2011_000521.png', '2008_001688.png', '2009_001828.png', '2008_000259.png', '2007_009320.png', '2009_001535.png', '2007_006661.png', '2011_001346.png', '2010_001327.png', '2009_000705.png', '2011_001479.png', '2010_004694.png', '2007_006605.png', '2008_007994.png', '2008_002697.png', '2008_005680.png', '2007_005281.png', '2009_000409.png', '2010_003506.png', '2010_000285.png', '2011_002656.png', '2011_001745.png', '2008_001566.png', '2008_000401.png', '2010_004662.png', '2007_009655.png', '2011_002641.png', '2011_003057.png', '2007_002284.png', '2008_003576.png', '2009_000418.png', '2009_003249.png', '2011_001674.png', '2010_000738.png', '2008_000131.png', '2008_007836.png', '2008_000436.png', '2010_003771.png', '2008_000400.png', '2008_004363.png', '2009_003455.png', '2008_003208.png', '2010_005118.png', '2009_003690.png', '2007_002227.png', '2011_000122.png', '2009_000935.png', '2009_005236.png', '2011_002559.png', '2008_002079.png', '2010_002338.png', '2008_007201.png', '2010_003383.png', '2011_001159.png', '2009_002164.png', '2007_007480.png', '2009_004084.png', '2007_001420.png', '2010_004072.png', '2011_000197.png', '2010_001017.png', '2007_001764.png', '2011_000780.png', '2008_002032.png', '2007_000175.png', '2011_000830.png', '2007_009533.png', '2010_004963.png', '2007_002107.png', '2011_000006.png', '2010_002382.png', '2010_005433.png', '2008_008773.png', '2010_004856.png', '2011_002335.png', '2010_002379.png', '2009_000487.png', '2011_001015.png', '2010_000174.png', '2009_005262.png', '2010_004825.png', '2010_003597.png', '2010_005419.png', '2009_001775.png', '2010_000836.png', '2007_003134.png', '2009_000684.png', '2011_000436.png', '2009_003865.png', '2007_000999.png', '2010_002935.png', '2007_009794.png', '2007_008543.png', '2010_000436.png', '2009_003971.png', '2008_005342.png', '2009_004278.png', '2009_002713.png', '2010_005709.png', '2010_005202.png', '2008_005843.png', '2010_004382.png', '2007_005547.png', '2008_000765.png', '2010_002794.png', '2009_003323.png', '2007_000804.png', '2010_004258.png', '2010_000661.png', '2009_004298.png', '2009_003466.png', '2008_000149.png', '2008_006055.png', '2007_006086.png', '2010_005401.png', '2009_000991.png', '2007_000676.png', '2008_002972.png', '2007_007534.png', '2009_003820.png', '2008_007392.png', '2008_001531.png', '2008_005145.png', '2007_003530.png', '2011_000338.png', '2009_001731.png', '2008_001208.png', '2009_003773.png', '2007_006704.png', '2010_000632.png', '2007_003110.png', '2009_001744.png', '2010_004361.png', '2008_003562.png', '2011_001967.png', '2011_001489.png', '2010_001024.png', '2011_000551.png', '2007_002470.png', '2007_005702.png', '2007_001526.png', '2010_005746.png', '2007_002539.png', '2008_000336.png', '2010_000437.png', '2009_003147.png', '2010_004069.png', '2011_000412.png', '2008_000422.png', '2009_000013.png', '2007_006615.png', '2011_000182.png', '2010_005098.png', '2010_001457.png', '2011_001567.png', '2009_002763.png', '2008_001112.png', '2009_003054.png', '2008_005006.png', '2009_000825.png', '2007_007168.png', '2011_000577.png', '2011_002553.png', '2008_000391.png', '2007_003251.png', '2009_000318.png', '2008_005242.png', '2009_001991.png', '2010_005951.png', '2008_000016.png', '2008_008521.png', '2007_005043.png', '2011_002050.png', '2010_004520.png', '2007_007878.png', '2007_004052.png', '2007_003529.png', '2010_003716.png', '2008_001030.png', '2011_001421.png', '2011_002223.png', '2008_004758.png', '2010_002902.png', '2010_002536.png', '2007_004065.png', '2007_006241.png', '2009_004228.png', '2009_000731.png', '2008_001513.png', '2007_002234.png', '2007_007414.png', '2011_001793.png', '2010_000502.png', '2007_008203.png', '2008_002681.png', '2008_008511.png', '2007_001678.png', '2009_001922.png', '2007_009052.png', '2008_003034.png', '2008_004026.png', '2011_001669.png', '2008_003101.png', '2007_005696.png', '2008_000630.png', '2010_003708.png', '2008_000309.png', '2009_005145.png', '2007_003848.png', '2007_003201.png', '2009_004095.png', '2009_002010.png', '2007_004481.png', '2008_004687.png', '2007_000032.png', '2009_001140.png', '2010_003764.png', '2010_003132.png', '2008_004562.png', '2007_009527.png', '2008_006032.png', '2010_003651.png', '2007_000129.png', '2009_003569.png', '2010_005871.png', '2009_000562.png', '2009_003961.png', '2011_002381.png', '2010_001061.png', '2007_006281.png', '2008_003135.png', '2010_002200.png', '2010_003665.png', '2009_001299.png', '2009_004117.png', '2007_006303.png', '2007_002903.png', '2009_003804.png', '2007_002852.png', '2007_008897.png', '2009_000887.png', '2009_002422.png', '2011_000669.png', '2007_009216.png', '2007_007795.png', '2007_007341.png', '2009_003340.png', '2010_005643.png', '2008_007219.png', '2009_000641.png', '2010_002693.png', '2008_000107.png', '2009_003523.png', '2010_000679.png', '2011_000222.png', '2007_006444.png', '2007_005130.png', '2008_004776.png', '2007_006946.png', '2010_001273.png', '2010_001261.png', '2011_000283.png', '2011_003246.png', '2009_001002.png', '2009_002320.png', '2011_001400.png', '2010_003127.png', '2010_005744.png', '2010_001206.png', '2007_006678.png', '2008_001150.png', '2011_000920.png', '2009_004540.png', '2010_004499.png', '2010_005501.png', '2007_004468.png', '2009_001972.png', '2011_000070.png', '2011_001198.png', '2009_004317.png', '2009_002972.png', '2010_002792.png', '2010_001849.png', '2008_006289.png', '2010_000961.png', '2010_002733.png', '2011_002863.png', '2011_002300.png', '2011_002932.png', '2011_003182.png', '2010_000330.png', '2007_007398.png', '2010_002286.png', '2008_007025.png', '2010_000241.png', '2010_002697.png', '2009_003006.png', '2009_001215.png', '2009_001818.png', '2009_003860.png', '2009_003217.png', '2010_002236.png', '2008_006215.png', '2008_004911.png', '2010_005718.png', '2008_005196.png', '2007_004510.png', '2007_005304.png', '2009_001251.png', '2010_000404.png', '2008_007677.png', '2008_007513.png', '2010_004760.png', '2009_004656.png', '2009_002662.png', '2011_002685.png', '2009_001937.png', '2007_006761.png', '2009_001735.png', '2008_000399.png', '2009_002291.png', '2011_002224.png', '2007_009950.png', '2011_000468.png', '2009_001687.png', '2010_002573.png', '2010_004363.png', '2008_004365.png', '2008_005713.png', '2010_001553.png', '2008_001467.png', '2008_000661.png', '2007_000837.png', '2009_005084.png', '2007_005989.png', '2008_006213.png', '2011_002578.png', '2009_003825.png', '2007_002967.png', '2011_003003.png', '2009_001163.png', '2011_003238.png', '2010_000131.png', '2007_005266.png', '2010_003531.png', '2009_000074.png', '2010_002161.png', '2011_002398.png', '2008_004654.png', '2008_001478.png', '2007_006076.png', '2007_004009.png', '2010_002962.png', '2009_002936.png', '2011_002951.png', '2007_009779.png', '2008_006339.png', '2011_002308.png', '2008_003105.png', '2010_001966.png', '2008_005525.png', '2008_001610.png', '2010_000559.png', '2011_001695.png', '2007_009327.png', '2007_003715.png', '2008_000019.png', '2010_004370.png', '2008_000700.png', '2010_003911.png', '2008_001118.png', '2007_000504.png', '2008_005512.png', '2011_001613.png', '2007_004483.png', '2009_000828.png', '2008_000992.png', '2008_002641.png', '2011_000652.png', '2007_008980.png', '2008_000763.png', '2007_004405.png', '2010_005652.png', '2010_003772.png', '2007_002266.png', '2010_002254.png', '2008_002929.png', '2008_003451.png', '2009_005078.png', '2007_006028.png', '2007_007772.png', '2009_002588.png', '2007_004810.png', '2010_005606.png', '2010_005762.png', '2007_008994.png', '2010_003203.png', '2011_002585.png', '2008_005600.png', '2011_002391.png', '2010_003954.png', '2007_009562.png', '2008_000510.png', '2008_003333.png', '2011_000293.png', '2009_001718.png', '2009_004886.png', '2011_001713.png', '2008_000217.png', '2011_000969.png', '2008_000657.png', '2007_006136.png', '2009_001403.png', '2007_001955.png', '2010_003925.png', '2011_002535.png', '2010_002499.png', '2009_001203.png', '2008_005668.png', '2008_001926.png', '2008_006341.png', '2008_000226.png', '2010_003017.png', '2010_001619.png', '2008_002521.png', '2009_001145.png', '2008_001761.png', '2010_002750.png', '2007_003101.png', '2008_000290.png', '2009_005189.png', '2010_001579.png', '2011_000238.png', '2008_002212.png', '2007_001595.png', '2009_004887.png', '2007_002823.png', '2007_007818.png', '2007_008670.png', '2008_003083.png', '2008_003976.png', '2007_003267.png', '2009_003697.png', '2007_008222.png', '2011_000248.png', '2011_003141.png', '2008_003858.png', '2007_000241.png', '2011_001589.png', '2008_006140.png', '2011_002040.png', '2011_002124.png', '2008_006325.png', '2007_004998.png', '2009_000022.png', '2008_006327.png', '2008_000544.png', '2010_004941.png', '2008_001070.png', '2009_002265.png', '2008_002958.png', '2008_004621.png', '2007_004500.png', '2009_002221.png', '2008_003886.png', '2007_009759.png', '2011_003271.png', '2009_003071.png', '2008_006920.png', '2007_002565.png', '2007_002545.png', '2007_005264.png', '2010_002682.png', '2009_000919.png', '2007_009592.png', '2010_001413.png', '2008_000515.png', '2011_000457.png', '2008_003691.png', '2011_000428.png', '2010_004938.png', '2007_002648.png', '2011_002227.png', '2010_005187.png', '2010_000392.png', '2007_003137.png', '2011_000239.png', '2010_004208.png', '2010_004900.png', '2008_005049.png', '2011_000550.png', '2011_002119.png', '2007_001457.png', '2011_003184.png', '2008_007245.png', '2007_009580.png', '2008_002710.png', '2007_006647.png', '2008_006877.png', '2009_001390.png', '2008_001523.png', '2011_003197.png', '2011_000641.png', '2010_004951.png', '2010_001656.png', '2008_000233.png', '2009_002527.png', '2009_002097.png', '2008_000009.png', '2011_002675.png', '2010_004861.png', '2009_004334.png', '2010_004154.png', '2010_005734.png', '2007_006277.png', '2008_006275.png', '2008_003180.png', '2008_003774.png', '2007_007230.png', '2007_009764.png', '2008_000213.png', '2008_001787.png', '2007_000061.png', '2011_001880.png', '2008_001379.png', '2010_004348.png', '2008_005874.png', '2008_000696.png', '2007_005149.png', '2007_005212.png', '2010_005922.png', '2010_000466.png', '2010_005206.png', '2010_002546.png', '2007_005173.png', '2011_001416.png', '2010_003119.png', '2009_002122.png', '2010_005016.png', '2007_002445.png', '2007_006364.png', '2007_001774.png', '2007_008415.png', '2010_001043.png', '2009_002185.png', '2007_009899.png', '2008_001203.png', '2009_000655.png', '2009_002042.png', '2009_005234.png', '2008_008263.png', '2009_002264.png', '2008_004551.png', '2007_005902.png', '2009_001085.png', '2010_000810.png', '2007_001872.png', '2010_003541.png', '2008_007814.png', '2007_005608.png', '2009_002519.png', '2009_002094.png', '2007_005210.png', '2010_001732.png', '2011_001407.png', '2008_004112.png', '2010_006034.png', '2009_001124.png', '2007_000323.png', '2007_000364.png', '2008_001479.png', '2011_000982.png', '2010_001962.png', '2007_002105.png', '2010_002625.png', '2008_000943.png', '2007_005951.png', '2010_002361.png', '2010_002938.png', '2008_000028.png', '2009_002591.png', '2010_001767.png', '2008_006229.png', '2010_003971.png', '2009_002262.png', '2008_002551.png', '2009_003080.png', '2010_004697.png', '2011_000312.png', '2009_001160.png', '2008_001308.png', '2007_009706.png', '2007_009436.png', '2011_000944.png', '2010_004550.png', '2010_000084.png', '2010_003010.png', '2008_004097.png', '2011_001014.png', '2007_009331.png', '2008_004358.png', '2007_009082.png', '2009_003933.png', '2007_007996.png', '2010_000639.png', '2010_005063.png', '2009_002245.png', '2011_001863.png', '2010_004429.png', '2008_000923.png', '2009_003711.png', '2009_002387.png', '2010_001842.png', '2010_000498.png', '2007_008430.png', '2008_001601.png', '2010_003717.png', '2010_002305.png', '2008_003846.png', '2008_006558.png', '2010_001860.png', '2008_001885.png', '2008_000223.png', '2008_008476.png', '2010_003894.png', '2007_008468.png', '2009_000801.png', '2007_000663.png', '2011_001652.png', '2010_001577.png', '2010_001830.png', '2009_003975.png', '2007_006899.png', '2009_003736.png', '2007_003131.png', '2008_006490.png', '2007_002728.png', '2009_001339.png', '2009_002521.png', '2009_004255.png', '2008_003270.png', '2009_004248.png', '2010_001376.png', '2008_008301.png', '2011_002509.png', '2007_003841.png', '2011_001959.png', '2008_006554.png', '2010_004472.png', '2008_005422.png', '2010_004757.png', '2008_000270.png', '2009_002599.png', '2007_003194.png', '2011_001866.png', '2008_000239.png', '2010_001923.png', '2009_001683.png', '2009_004738.png', '2009_001253.png', '2007_009030.png', '2009_002651.png', '2007_002895.png', '2009_005231.png', '2010_000887.png', '2010_002623.png', '2007_004289.png', '2008_000832.png', '2009_002862.png', '2008_005904.png', '2008_001028.png', '2010_000622.png', '2007_002760.png', '2011_001276.png', '2011_001133.png', '2007_009687.png', '2009_002150.png', '2007_009446.png', '2007_006348.png', '2007_008403.png', '2011_000813.png', '2010_004219.png', '2008_001966.png', '2010_004314.png', '2007_008260.png', '2007_004459.png', '2007_004856.png', '2009_004497.png', '2008_000778.png', '2008_000584.png', '2007_000793.png', '2008_006221.png', '2007_005273.png', '2011_000419.png', '2010_003798.png', '2008_001874.png', '2010_003293.png', '2007_000847.png', '2007_002142.png', '2009_002239.png', '2011_000771.png', '2008_004080.png', '2007_002024.png', '2010_003157.png', '2007_006117.png', '2007_004663.png', '2007_001284.png', '2007_002624.png', '2011_000758.png', '2007_007196.png', '2008_008469.png', '2011_001904.png', '2008_007012.png', '2010_002556.png', '2009_002568.png', '2007_000243.png', '2011_000594.png', '2010_004322.png', '2008_005738.png', '2009_004867.png', '2007_009348.png', '2009_004213.png', '2007_007154.png', '2008_001997.png', '2010_001120.png', '2009_000746.png', '2010_000567.png', '2011_001292.png', '2009_003003.png', '2010_000163.png', '2010_001422.png', '2008_000573.png', '2008_003108.png', '2009_004464.png', '2007_005144.png', '2010_002929.png', '2007_001724.png', '2010_005796.png', '2011_002730.png', '2008_002239.png', '2010_000114.png', '2008_005541.png', '2009_002912.png', '2008_000120.png', '2010_005788.png', '2011_000379.png', '2011_002997.png', '2009_000391.png', '2007_009607.png', '2009_002984.png', '2008_002123.png', '2010_006070.png', '2007_008072.png', '2007_003195.png', '2010_002203.png', '2007_000392.png', '2008_002152.png', '2008_002200.png', '2009_004901.png', '2009_002052.png', '2010_003062.png', '2010_002107.png', '2011_000291.png', '2011_000566.png', '2010_000159.png', '2010_000929.png', '2007_008964.png', '2008_003701.png', '2010_004628.png', '2010_002396.png', '2008_006481.png', '2009_003123.png', '2010_003362.png', '2010_000043.png', '2009_000133.png', '2009_002844.png', '2009_002314.png', '2010_005522.png', '2007_002046.png', '2008_005074.png', '2009_002917.png', '2008_007428.png', '2010_004119.png', '2011_001974.png', '2007_007165.png', '2011_000713.png', '2009_000723.png', '2009_001070.png', '2009_004043.png', '2011_002770.png', '2008_003926.png', '2010_005860.png', '2009_004942.png', '2010_004025.png', '2010_004721.png', '2011_001624.png', '2011_000637.png', '2007_002789.png', '2010_004042.png', '2010_000426.png', '2009_000628.png', '2010_002251.png', '2010_004222.png', '2009_003088.png', '2009_003549.png', '2007_001825.png', '2009_002618.png', '2008_008296.png', '2009_002586.png', '2008_007804.png', '2008_003998.png', '2011_002548.png', '2007_003431.png', '2008_006526.png', '2011_000243.png', '2010_005830.png', '2009_004212.png', '2008_007498.png', '2007_004281.png', '2009_000690.png', '2010_000746.png', '2010_005277.png', '2008_002904.png', '2007_007195.png', '2007_009464.png', '2010_002413.png', '2011_002589.png', '2010_000132.png', '2009_001894.png', '2010_001562.png', '2008_006389.png', '2010_003380.png', '2010_000874.png', '2008_003168.png', '2009_000177.png', '2007_009422.png', '2009_001100.png', '2009_004426.png', '2011_000453.png', '2009_001177.png', '2007_001717.png', '2010_000335.png', '2008_002258.png', '2008_002942.png', '2009_001690.png', '2011_003205.png', '2007_004392.png', '2007_005911.png', '2007_005368.png', '2009_002753.png', '2007_002094.png', '2007_002376.png', '2008_001896.png', '2008_004838.png', '2008_007527.png', '2008_003373.png', '2009_000347.png', '2009_000309.png', '2011_000482.png', '2011_001259.png', '2007_007355.png', '2008_002425.png', '2008_000848.png', '2008_000919.png', '2010_002973.png', '2010_005519.png', '2009_002072.png', '2009_000938.png', '2009_003461.png', '2007_002132.png', '2010_001292.png', '2011_002515.png', '2009_000420.png', '2008_007507.png', '2007_000799.png', '2008_001408.png', '2010_002218.png', '2011_002956.png', '2008_000207.png', '2010_004226.png', '2007_005859.png', '2009_004994.png', '2011_002929.png', '2008_002247.png', '2008_006873.png', '2007_002400.png', '2008_005214.png', '2008_003068.png', '2011_001211.png', '2008_008106.png', '2008_006981.png', '2011_001753.png', '2009_004186.png', '2010_002348.png', '2008_007811.png', '2011_000548.png', '2007_005688.png', '2010_004165.png', '2011_002975.png', '2008_001876.png', '2007_008802.png', '2009_005158.png', '2010_005582.png', '2010_002778.png', '2009_002845.png', '2008_001546.png', '2011_003256.png', '2007_006477.png', '2010_002310.png', '2009_005260.png', '2010_003912.png', '2007_007003.png', '2007_000187.png', '2010_005223.png', '2009_004888.png', '2009_003053.png', '2009_002993.png', '2008_004854.png', '2009_005055.png', '2007_009322.png', '2008_002210.png', '2008_004946.png', '2011_000310.png', '2007_002719.png', '2009_001146.png', '2011_003216.png', '2007_002611.png', '2008_000795.png', '2010_000855.png', '2008_000080.png', '2009_001964.png', '2008_000578.png', '2007_007493.png', '2009_001311.png', '2008_000589.png', '2007_007524.png', '2007_008645.png', '2010_002538.png', '2011_000843.png', '2008_001399.png', '2009_002416.png', '2007_008722.png', '2010_000038.png', '2008_008434.png', '2008_002411.png', '2008_000785.png', '2007_000645.png', '2009_004417.png', '2009_000149.png', '2008_003196.png', '2010_001660.png', '2008_004101.png', '2010_002921.png', '2009_001036.png', '2008_008392.png', '2008_003500.png', '2008_004588.png', '2008_004055.png', '2008_007142.png', '2008_005197.png', '2008_001580.png', '2010_002232.png', '2008_008362.png', '2008_005706.png', '2010_004104.png', '2009_001871.png', '2010_002363.png', '2011_000536.png', '2011_001855.png', '2009_003142.png', '2009_003768.png', '2008_008193.png', '2007_008084.png', '2010_003514.png', '2008_005747.png', '2007_002488.png', '2010_002047.png', '2008_006509.png', '2010_002720.png', '2008_006874.png', '2010_000371.png', '2007_004830.png', '2008_004910.png', '2009_002638.png', '2008_000254.png', '2008_002043.png', '2009_000455.png', '2008_008682.png', '2008_000289.png', '2008_003733.png', '2007_001609.png', '2008_007048.png', '2007_002293.png', '2007_001321.png', '2007_005114.png', '2007_008085.png', '2007_009750.png', '2007_006865.png', '2008_006751.png', '2009_004674.png', '2007_006373.png', '2011_000258.png', '2009_003542.png', '2007_003593.png', '2010_000628.png', '2010_000372.png', '2007_007651.png', '2008_001188.png', '2011_001402.png', '2007_003917.png', '2010_003884.png', '2009_004993.png', '2011_001601.png', '2009_002171.png', '2010_003670.png', '2008_004914.png', '2011_000069.png', '2007_009911.png', '2011_002121.png', '2009_000535.png', '2008_000733.png', '2008_005714.png', '2011_001726.png', '2008_001514.png', '2011_002246.png', '2008_007858.png', '2010_004783.png', '2009_002856.png', '2007_006680.png', '2009_004217.png', '2009_005141.png', '2010_002039.png', '2008_004140.png', '2008_007165.png', '2010_002387.png', '2007_007930.png', '2010_006009.png', '2010_004306.png', '2009_001278.png', '2007_008821.png', '2007_009221.png', '2007_003499.png', '2008_000273.png', '2009_005089.png', '2007_006866.png', '2011_000066.png', '2007_007890.png', '2009_001636.png', '2009_001095.png', '2009_001765.png', '2007_009550.png', '2010_005891.png', '2008_002255.png', '2008_007242.png', '2009_001663.png', '2007_009654.png', '2007_006445.png', '2010_005111.png', '2011_002528.png', '2008_004583.png', '2007_009096.png', '2009_000709.png', '2010_004994.png', '2009_001868.png', '2007_002361.png', '2008_001433.png', '2010_002142.png', '2011_000149.png', '2010_003170.png', '2007_001709.png', '2007_008708.png', '2009_000771.png', '2011_000651.png', '2011_000045.png', '2011_001621.png', '2011_002379.png', '2008_000811.png', '2009_000073.png', '2011_001812.png', '2011_001263.png', '2011_000116.png', '2009_000635.png', '2010_000552.png', '2010_001247.png', '2009_004581.png', '2007_003506.png', '2009_003771.png', '2008_008525.png', '2008_005294.png', '2010_001124.png', '2008_005812.png', '2007_005064.png', '2010_005898.png', '2009_003858.png', '2010_003342.png', '2008_000645.png', '2009_001615.png', '2009_001783.png', '2010_001079.png', '2007_008815.png', '2009_003311.png', '2007_009245.png', '2009_000553.png', '2007_004112.png', '2007_004190.png', '2010_003274.png', '2011_002279.png', '2009_004721.png', '2007_001225.png', '2009_002487.png', '2007_007881.png', '2010_005899.png', '2007_008256.png', '2009_001625.png', '2010_004063.png', '2009_003991.png', '2009_000730.png', '2008_003779.png', '2007_004538.png', '2009_003517.png', '2010_003275.png', '2009_002155.png', '2007_002198.png', '2008_004663.png', '2008_005679.png', '2011_003151.png', '2008_002383.png', '2010_004559.png', '2010_003174.png', '2011_002767.png', '2008_003777.png', '2008_004822.png', '2009_003481.png', '2009_004479.png', '2009_005118.png', '2010_002137.png', '2007_008043.png', '2007_007624.png', '2010_004815.png', '2007_001377.png', '2007_009258.png', '2007_000170.png', '2009_004805.png', '2010_003381.png', '2010_000675.png', '2011_001868.png', '2011_002873.png', '2007_002212.png', '2011_003030.png', '2010_001149.png', '2010_003302.png', '2007_006841.png', '2010_004828.png', '2010_004109.png', '2010_005468.png', '2009_003938.png', '2010_004071.png', '2008_006703.png', '2008_003252.png', '2008_003381.png', '2008_006070.png', '2007_000480.png', '2010_001939.png', '2008_001263.png', '2009_000626.png', '2011_003038.png', '2010_002422.png', '2009_005000.png', '2009_003361.png', '2010_003958.png', '2008_003238.png', '2010_003696.png', '2008_001358.png', '2007_004328.png', '2008_005439.png', '2010_000952.png', '2009_000839.png', '2011_001754.png', '2011_000278.png', '2007_005294.png', '2008_008268.png', '2010_004056.png', '2007_002099.png', '2008_001715.png', '2009_000012.png', '2009_001961.png', '2011_001875.png', '2008_000105.png', '2010_000272.png', '2010_001913.png', '2011_001005.png', '2010_003746.png', '2010_001748.png', '2008_002471.png', '2009_003921.png', '2009_000892.png', '2011_001619.png', '2009_002928.png', '2007_004866.png', '2009_002584.png', '2010_002147.png', '2009_003660.png', '2008_002241.png', '2008_000015.png', '2011_001114.png', '2007_005227.png', '2008_003477.png', '2011_001922.png', '2007_006560.png', '2007_005354.png', '2008_003330.png', '2008_006349.png', '2008_001137.png', '2009_000242.png', '2007_004241.png', '2009_004368.png', '2007_004189.png', '2010_004288.png', '2008_001462.png', '2009_003065.png', '2007_002260.png', '2011_001988.png', '2009_001268.png', '2008_002762.png', '2008_008541.png', '2010_004041.png', '2008_000863.png', '2010_002939.png', '2008_000533.png', '2007_007130.png', '2007_003788.png', '2008_002885.png', '2007_001630.png', '2007_000121.png', '2008_000103.png', '2011_002134.png', '2008_007313.png', '2008_006408.png', '2007_003991.png', '2010_005791.png', '2007_007948.png', '2007_000491.png', '2007_003349.png', '2007_006483.png', '2009_002988.png', '2008_007357.png', '2007_000529.png', '2009_000087.png', '2008_000470.png', '2008_000271.png', '2010_000256.png', '2008_005839.png', '2008_004339.png', '2009_002734.png', '2009_003576.png', '2008_000197.png', '2010_003207.png', '2009_002082.png', '2010_000148.png', '2008_000464.png', '2008_007433.png', '2011_001607.png', '2009_003928.png', '2007_000648.png', '2011_003103.png', '2011_002149.png', '2011_002532.png', '2008_000853.png', '2011_002322.png', '2008_003546.png', '2008_002868.png', '2007_009691.png', '2007_001288.png', '2008_004259.png', '2009_002268.png', '2007_000661.png', '2011_000252.png', '2009_000744.png', '2007_009817.png', '2009_001137.png', '2007_001960.png', '2011_001710.png', '2010_001576.png', '2008_003885.png', '2011_002709.png', '2007_001408.png', '2007_007447.png', '2009_003636.png', '2009_000250.png', '2011_000455.png', '2007_007109.png', '2008_001056.png', '2011_002410.png', '2009_005287.png', '2010_002271.png', '2010_004149.png', '2008_001249.png', '2007_007891.png', '2010_003915.png', '2007_002953.png', '2010_001951.png', '2007_003565.png', '2007_007084.png', '2011_000840.png', '2007_005978.png', '2011_000809.png', '2011_003146.png', '2008_001245.png', '2011_000216.png', '2008_008343.png', '2010_001514.png', '2007_008571.png', '2007_001901.png', '2007_003525.png', '2008_004754.png', '2010_002868.png', '2011_001714.png', '2007_005296.png', '2008_002536.png', '2011_002389.png', '2009_003522.png', '2007_008110.png', '2008_004704.png', '2011_000382.png', '2010_003532.png', '2009_003903.png', '2007_009209.png', '2011_001047.png', '2008_004750.png', '2009_004171.png', '2009_002372.png', '2009_004620.png', '2010_002025.png', '2008_005698.png', '2007_006660.png', '2008_008629.png', '2007_007726.png', '2007_004644.png', '2010_003599.png', '2011_000953.png', '2007_005248.png', '2009_000080.png', '2008_000595.png', '2010_004620.png', '2009_004301.png', '2007_004380.png', '2010_004365.png', '2011_000503.png', '2011_002935.png', '2010_002020.png', '2010_004540.png', '2010_002336.png', '2009_003345.png', '2010_004074.png', '2008_002269.png', '2011_001447.png', '2009_004316.png', '2010_004773.png', '2007_005358.png', '2008_007090.png', '2009_000385.png', '2008_001076.png', '2010_000063.png', '2009_002749.png', '2009_003034.png', '2007_003207.png', '2009_002346.png', '2010_003547.png', '2010_001151.png', '2007_009709.png', '2008_004430.png', '2008_000359.png', '2008_008550.png', '2008_006748.png', '2008_001078.png', '2007_003188.png', '2010_002150.png', '2011_000219.png', '2007_003022.png', '2008_004477.png', '2008_002993.png', '2011_002511.png', '2011_000973.png', '2007_004275.png', '2007_007591.png', '2008_007998.png', '2007_009458.png', '2009_002628.png', '2009_003353.png', '2007_001857.png', '2009_002635.png', '2010_000572.png', '2007_009947.png', '2010_003384.png', '2011_001175.png', '2009_002562.png', '2011_002834.png', '2007_002643.png', '2011_000268.png', '2007_008051.png', '2007_007908.png', '2008_008252.png', '2008_002205.png', '2011_000807.png', '2009_000176.png', '2007_006400.png', '2011_002114.png', '2010_006026.png', '2009_000544.png', '2008_002894.png', '2011_002327.png', '2011_001161.png', '2009_002674.png', '2010_004171.png', '2007_009788.png', '2009_004987.png', '2009_002530.png', '2007_006212.png', '2007_007523.png', '2011_000618.png', '2008_008462.png', '2010_000216.png', '2010_004556.png', '2011_000646.png', '2008_002288.png', '2009_001804.png', '2009_000894.png', '2008_003210.png', '2010_002691.png', '2008_008221.png', '2007_005331.png', '2009_001019.png', '2007_003910.png', '2007_003742.png', '2009_001255.png', '2007_001487.png', '2008_006835.png', '2009_003450.png', '2007_007810.png', '2009_005037.png', '2007_003861.png', '2008_003577.png', '2008_004416.png', '2009_000603.png', '2009_004191.png', '2007_007387.png', '2007_004033.png', '2009_002117.png', '2009_004539.png', '2008_004172.png', '2007_002273.png', '2011_002371.png', '2008_002429.png', '2009_005016.png', '2009_000704.png', '2008_003003.png', '2009_001197.png', '2008_006655.png', '2007_001175.png', '2008_006159.png', '2010_001595.png', '2008_007691.png', '2008_002464.png', '2011_003085.png', '2011_001519.png', '2007_007698.png', '2010_000519.png', '2011_002075.png', '2007_008948.png', '2009_002982.png', '2009_005269.png', '2007_007773.png', '2007_001917.png', '2007_008374.png', '2009_004519.png', '2009_003164.png', '2010_000904.png', '2008_001691.png', '2010_001279.png', '2010_005669.png', '2007_009554.png', '2011_001287.png', '2008_001632.png', '2009_002362.png', '2008_002073.png', '2009_003224.png', '2008_002175.png', '2010_000787.png', '2007_001677.png', '2007_001439.png', '2007_006066.png', '2008_001643.png', '2010_001154.png', '2009_003012.png', '2010_005663.png', '2011_001475.png', '2010_005952.png', '2009_004643.png', '2010_005021.png', '2010_005508.png', '2009_004568.png', '2011_000054.png', '2011_001110.png', '2008_003369.png', '2009_002872.png', '2008_006523.png', '2009_002423.png', '2008_007273.png', '2010_002815.png', '2011_002447.png', '2007_007235.png', '2009_000201.png', '2008_005953.png', '2009_002153.png', '2009_001240.png', '2011_002110.png', '2009_004494.png', '2007_005626.png', '2007_007211.png', '2007_003815.png', '2008_006722.png', '2010_000788.png', '2008_001231.png', '2008_002160.png', '2007_009756.png', '2007_005647.png', '2010_000907.png', '2010_000847.png', '2008_002066.png', '2010_005723.png', '2009_003589.png', '2007_001149.png', '2010_004186.png', '2011_001434.png', '2007_006254.png', '2011_003066.png', '2011_001542.png', '2010_002870.png', '2009_003035.png', '2009_002573.png', '2009_004507.png', '2008_003856.png', '2007_006864.png', '2009_005247.png', '2010_001706.png', '2007_008944.png', '2008_006353.png', '2010_004766.png', '2009_002594.png', '2009_004829.png', '2008_005321.png', '2009_000412.png', '2009_001422.png', '2010_005626.png', '2010_001069.png', '2007_000925.png', '2011_002498.png', '2007_002669.png', '2010_000764.png', '2011_000152.png', '2010_001451.png', '2008_000567.png', '2009_001885.png', '2009_001607.png', '2010_001995.png', '2009_004374.png', '2009_002990.png', '2009_003564.png', '2007_002368.png', '2011_000598.png', '2008_001547.png', '2007_000768.png', '2011_000469.png', '2011_000526.png', '2010_002154.png', '2007_006581.png', '2009_005219.png', '2010_001851.png', '2009_002897.png', '2007_007415.png', '2007_007585.png', '2010_000492.png', '2009_000444.png', '2008_002064.png', '2010_004419.png', '2007_009251.png', '2008_002704.png', '2010_000683.png', '2008_005266.png', '2011_000997.png', '2010_005706.png', '2010_000503.png', '2008_002467.png', '2007_002119.png', '2008_000841.png', '2009_004939.png', '2009_003406.png', '2008_004396.png', '2008_002358.png', '2010_000815.png', '2010_004625.png', '2009_000488.png', '2010_004320.png', '2009_003504.png', '2008_005231.png', '2010_003781.png', '2007_004969.png', '2008_004367.png', '2009_000335.png', '2010_000269.png', '2009_000100.png', '2009_000006.png', '2007_000559.png', '2010_001282.png', '2009_001096.png', '2008_003676.png', '2008_001119.png', '2009_001108.png', '2010_005932.png', '2007_000727.png', '2007_006035.png', '2007_006530.png', '2008_005727.png', '2011_000481.png', '2010_002054.png', '2007_001763.png', '2008_007759.png', '2010_002907.png', '2011_000585.png', '2009_004264.png', '2009_005194.png', '2009_000996.png', '2007_001073.png', '2010_005457.png', '2010_003088.png', '2010_004543.png', '2007_005705.png', '2008_002338.png', '2010_003153.png', '2007_002954.png', '2007_005460.png', '2010_005108.png', '2011_002715.png', '2011_002953.png', '2010_001418.png', '2010_000666.png', '2008_007596.png', '2010_001329.png', '2007_009724.png', '2007_003621.png', '2008_004869.png', '2007_000042.png', '2008_004345.png', '2007_001698.png', '2011_001928.png', '2008_002936.png', '2009_005056.png', '2009_001768.png', '2008_004552.png', '2009_000161.png', '2010_001245.png', '2009_002445.png', '2010_005119.png', '2007_005086.png', '2008_005245.png', '2007_007021.png', '2011_000178.png', '2010_004120.png', '2009_002460.png', '2009_000136.png', '2008_001895.png', '2009_000732.png', '2007_007432.png', '2008_005089.png', '2007_007470.png', '2010_005835.png', '2009_000285.png', '2007_007649.png', '2010_002440.png', '2011_000512.png', '2009_003273.png', '2009_003299.png', '2009_001850.png', '2011_002812.png', '2010_004210.png', '2009_005137.png', '2008_003379.png', '2008_006036.png', '2007_002845.png', '2009_002415.png', '2009_001388.png', '2007_001299.png', '2009_003703.png', '2009_000845.png', '2007_005915.png', '2010_002531.png', '2007_002896.png', '2011_002592.png', '2009_002083.png', '2010_005129.png', '2010_004369.png', '2009_003666.png', '2009_002019.png', '2010_004432.png', '2010_005471.png', '2008_005375.png', '2009_001205.png', '2009_003200.png', '2009_003696.png', '2009_002281.png', '2010_000588.png', '2010_005992.png', '2007_001185.png', '2011_000573.png', '2011_001004.png', '2009_000205.png', '2011_002920.png', '2010_005232.png', '2011_000888.png', '2008_000238.png', '2008_000911.png', '2007_006409.png', '2007_008714.png', '2009_003757.png']\n"
          ]
        }
      ]
    },
    {
      "cell_type": "code",
      "source": [
        "\n",
        "# Xtrain=[]\n",
        "# img_arr =[]\n",
        "# seg_arr =[]\n",
        "# total = len(os.listdir(Train_Path))\n",
        "\n",
        "\n",
        "\n",
        "# for img_path in os.listdir(Train_Path)[int(total*0.1):int(total*0.2)]:\n",
        "\n",
        "\n",
        "\n",
        "#    if img_path[:-3]+'png' in os.listdir(Segmentation_Path):\n",
        "\n",
        "#      img = (preprocess_img(Train_Path + img_path))\n",
        "#      img_arr.append(img)\n",
        "#      #img_arr=np.array(img_arr)\n",
        "\n",
        "\n",
        "#      seg = (preprocess_img(Segmentation_Path + img_path[:-4]+\".png\"))\n",
        "#      seg_arr.append(seg)\n",
        "#      #seg_arr=np.array(seg_arr)\n",
        "\n",
        "#      #print(seg.shape,seg_arr.shape)\n",
        "\n",
        "# img_arr=np.array(img_arr)\n",
        "# seg_arr=np.array(seg_arr)\n",
        "\n",
        "\n",
        "\n",
        "\n",
        "\n",
        "\n"
      ],
      "metadata": {
        "id": "bhKiJJX5GRY1"
      },
      "execution_count": null,
      "outputs": []
    },
    {
      "cell_type": "code",
      "source": [],
      "metadata": {
        "id": "KRsqyjpGIP7A"
      },
      "execution_count": null,
      "outputs": []
    },
    {
      "cell_type": "code",
      "source": [
        "# model.fit(img_arr,seg_arr,validation_split=0.2,epochs=10)"
      ],
      "metadata": {
        "id": "LwmbU37TPMmZ"
      },
      "execution_count": null,
      "outputs": []
    },
    {
      "cell_type": "code",
      "source": [
        "# def val_generator():\n",
        "\n",
        "#   batch_size=12\n",
        "#   img_arr =[]\n",
        "#   seg_arr =[]\n",
        "#   total = len(os.listdir(Train_Path))\n",
        "#   n=0\n",
        "\n",
        "\n",
        "#   for img_path in os.listdir(Train_Path)[int(total*0.5):int(total*0.7)]:\n",
        "\n",
        "#     try:\n",
        "#       img = (preprocess_img(Train_Path + img_path))\n",
        "#       img_arr.append(img)\n",
        "#       seg = np.array(preprocess_img(Segmentation_Path + img_path[:-3]+'png'))\n",
        "#       seg_arr.append(seg)\n",
        "#       n+=1\n",
        "#     except:\n",
        "#       continue\n",
        "\n",
        "\n",
        "#   #return [np.array(img_arr),np.array(seg_arr)]\n",
        "#     if n==batch_size:\n",
        "#                     yield (np.array(img_arr),np.array(seg_arr))\n",
        "\n",
        "#                     img_arr=[]\n",
        "#                     seg_arr=[]\n",
        "#                     n = 0\n",
        "\n"
      ],
      "metadata": {
        "id": "QxlcMMtlAXu5"
      },
      "execution_count": null,
      "outputs": []
    },
    {
      "cell_type": "code",
      "source": [],
      "metadata": {
        "id": "uuBunA39IAvm"
      },
      "execution_count": null,
      "outputs": []
    },
    {
      "cell_type": "code",
      "source": [],
      "metadata": {
        "id": "0sR0MMKENZAQ"
      },
      "execution_count": null,
      "outputs": []
    },
    {
      "cell_type": "code",
      "source": [],
      "metadata": {
        "id": "aUJTFyI_ArS8"
      },
      "execution_count": null,
      "outputs": []
    },
    {
      "cell_type": "code",
      "source": [],
      "metadata": {
        "id": "uBX6b4-ACxy7"
      },
      "execution_count": null,
      "outputs": []
    },
    {
      "cell_type": "code",
      "source": [],
      "metadata": {
        "id": "bAvGpeiYArPi"
      },
      "execution_count": null,
      "outputs": []
    },
    {
      "cell_type": "code",
      "source": [],
      "metadata": {
        "id": "abkzakaOArNc"
      },
      "execution_count": null,
      "outputs": []
    },
    {
      "cell_type": "code",
      "source": [],
      "metadata": {
        "id": "WikZGotGArK2"
      },
      "execution_count": null,
      "outputs": []
    },
    {
      "cell_type": "code",
      "source": [],
      "metadata": {
        "id": "6K9TvKvl_LVK"
      },
      "execution_count": null,
      "outputs": []
    },
    {
      "cell_type": "code",
      "source": [],
      "metadata": {
        "id": "mfO5mFiamwwo"
      },
      "execution_count": null,
      "outputs": []
    },
    {
      "cell_type": "code",
      "source": [],
      "metadata": {
        "id": "qrlmwM4WnTrW"
      },
      "execution_count": null,
      "outputs": []
    },
    {
      "cell_type": "code",
      "source": [],
      "metadata": {
        "id": "iI1CPf00_LS-"
      },
      "execution_count": null,
      "outputs": []
    },
    {
      "cell_type": "code",
      "source": [],
      "metadata": {
        "id": "PgglgzgA_LQt"
      },
      "execution_count": null,
      "outputs": []
    },
    {
      "cell_type": "code",
      "source": [],
      "metadata": {
        "id": "QhDP_h6yYkB6"
      },
      "execution_count": null,
      "outputs": []
    },
    {
      "cell_type": "code",
      "source": [],
      "metadata": {
        "id": "1aVW7VjOYj15"
      },
      "execution_count": null,
      "outputs": []
    },
    {
      "cell_type": "code",
      "metadata": {
        "id": "6Z3f2FEnixar"
      },
      "source": [],
      "execution_count": null,
      "outputs": []
    },
    {
      "cell_type": "code",
      "metadata": {
        "id": "TsDAdMaNixXU"
      },
      "source": [],
      "execution_count": null,
      "outputs": []
    },
    {
      "cell_type": "code",
      "metadata": {
        "id": "5xK3Yt_AixU4"
      },
      "source": [],
      "execution_count": null,
      "outputs": []
    },
    {
      "cell_type": "code",
      "metadata": {
        "id": "ASfSYhN4ixSJ"
      },
      "source": [],
      "execution_count": null,
      "outputs": []
    },
    {
      "cell_type": "code",
      "metadata": {
        "id": "63MAYiQYixQD"
      },
      "source": [],
      "execution_count": null,
      "outputs": []
    },
    {
      "cell_type": "code",
      "metadata": {
        "id": "YhNSnE4gixNs"
      },
      "source": [],
      "execution_count": null,
      "outputs": []
    },
    {
      "cell_type": "code",
      "metadata": {
        "id": "T7XJRrivixK9"
      },
      "source": [],
      "execution_count": null,
      "outputs": []
    },
    {
      "cell_type": "code",
      "metadata": {
        "id": "KpT7RzskixFv"
      },
      "source": [],
      "execution_count": null,
      "outputs": []
    },
    {
      "cell_type": "code",
      "metadata": {
        "id": "O8Xc3UYSUFER"
      },
      "source": [],
      "execution_count": null,
      "outputs": []
    },
    {
      "cell_type": "code",
      "metadata": {
        "id": "Zdz1g9m2UFCD"
      },
      "source": [],
      "execution_count": null,
      "outputs": []
    },
    {
      "cell_type": "code",
      "metadata": {
        "id": "o1x560j8UE_r"
      },
      "source": [
        "\n"
      ],
      "execution_count": null,
      "outputs": []
    },
    {
      "cell_type": "code",
      "metadata": {
        "id": "qzGpR4tgUE83"
      },
      "source": [],
      "execution_count": null,
      "outputs": []
    },
    {
      "cell_type": "code",
      "metadata": {
        "id": "6hwTx4MHUEzP"
      },
      "source": [],
      "execution_count": null,
      "outputs": []
    },
    {
      "cell_type": "code",
      "metadata": {
        "id": "Bhu7thpMLcOb"
      },
      "source": [
        "\n",
        ""
      ],
      "execution_count": null,
      "outputs": []
    },
    {
      "cell_type": "code",
      "metadata": {
        "id": "Ag4vjWlCZ_XZ"
      },
      "source": [],
      "execution_count": null,
      "outputs": []
    },
    {
      "cell_type": "code",
      "metadata": {
        "id": "a1Tedx5OZ_Zy"
      },
      "source": [
        "def soft_dice_loss(y_true, y_pred, epsilon=1e-6):\n",
        "\n",
        "\n",
        "    # skip the batch and class axis for calculating Dice score\n",
        "    axes = tuple(range(1, len(y_pred.shape)-1))\n",
        "    numerator = 2. * np.sum(y_pred * y_true, axes)\n",
        "    denominator = np.sum(np.square(y_pred) + np.square(y_true), axes)\n",
        "\n",
        "    return 1 - np.mean((numerator + epsilon) / (denominator + epsilon)) # average over classes and batch\n",
        ""
      ],
      "execution_count": null,
      "outputs": []
    },
    {
      "cell_type": "code",
      "metadata": {
        "id": "W9YVH8BtZ_cW"
      },
      "source": [],
      "execution_count": null,
      "outputs": []
    },
    {
      "cell_type": "code",
      "metadata": {
        "id": "4_B833TfZ_en"
      },
      "source": [],
      "execution_count": null,
      "outputs": []
    },
    {
      "cell_type": "code",
      "metadata": {
        "id": "qgAz2BG6Z_g9"
      },
      "source": [],
      "execution_count": null,
      "outputs": []
    },
    {
      "cell_type": "code",
      "metadata": {
        "id": "RSA_E6gVZ_i8"
      },
      "source": [],
      "execution_count": null,
      "outputs": []
    },
    {
      "cell_type": "code",
      "metadata": {
        "id": "LT1hcONpZ_lK"
      },
      "source": [],
      "execution_count": null,
      "outputs": []
    }
  ]
}